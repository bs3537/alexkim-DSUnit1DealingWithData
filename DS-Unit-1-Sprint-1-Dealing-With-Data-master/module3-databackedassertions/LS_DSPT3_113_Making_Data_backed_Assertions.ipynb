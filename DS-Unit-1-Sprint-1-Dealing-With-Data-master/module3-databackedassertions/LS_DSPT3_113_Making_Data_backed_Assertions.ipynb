{
  "nbformat": 4,
  "nbformat_minor": 0,
  "metadata": {
    "colab": {
      "name": "LS_DSPT3_113_Making_Data_backed_Assertions.ipynb",
      "version": "0.3.2",
      "provenance": [],
      "collapsed_sections": [],
      "include_colab_link": true
    },
    "kernelspec": {
      "name": "python3",
      "display_name": "Python 3"
    }
  },
  "cells": [
    {
      "cell_type": "markdown",
      "metadata": {
        "id": "view-in-github",
        "colab_type": "text"
      },
      "source": [
        "<a href=\"https://colab.research.google.com/github/alex000kim/DS-Unit-1-Sprint-1-Dealing-With-Data/blob/master/module3-databackedassertions/LS_DSPT3_113_Making_Data_backed_Assertions.ipynb\" target=\"_parent\"><img src=\"https://colab.research.google.com/assets/colab-badge.svg\" alt=\"Open In Colab\"/></a>"
      ]
    },
    {
      "cell_type": "markdown",
      "metadata": {
        "id": "Okfr_uhwhS1X",
        "colab_type": "text"
      },
      "source": [
        "# Lambda School Data Science - Making Data-backed Assertions\n",
        "\n",
        "This is, for many, the main point of data science - to create and support reasoned arguments based on evidence. It's not a topic to master in a day, but it is worth some focused time thinking about and structuring your approach to it."
      ]
    },
    {
      "cell_type": "code",
      "metadata": {
        "id": "q5F7U6K87N5W",
        "colab_type": "code",
        "colab": {}
      },
      "source": [
        ""
      ],
      "execution_count": 0,
      "outputs": []
    },
    {
      "cell_type": "markdown",
      "metadata": {
        "id": "UyDD8pR97ON-",
        "colab_type": "text"
      },
      "source": [
        "# Resources\n",
        "- https://slate.com/technology/2013/05/weird-psychology-social-science-researchers-rely-too-much-on-western-college-students.html\n",
        "- https://en.wikipedia.org/wiki/Simpson%27s_paradox\n",
        "- https://www.motherjones.com/kevin-drum/2010/09/counterintuitive-world/\n",
        "- https://en.wikipedia.org/wiki/Misuse_of_statistics\n",
        "- https://www.youtube.com/watch?v=7jiPeIFXb6U\n"
      ]
    },
    {
      "cell_type": "markdown",
      "metadata": {
        "id": "9dtJETFRhnOG",
        "colab_type": "text"
      },
      "source": [
        "## Lecture - generating a confounding variable\n",
        "\n",
        "The prewatch material told a story about a hypothetical health condition where both the drug usage and overall health outcome were related to gender - thus making gender a confounding variable, obfuscating the possible relationship between the drug and the outcome.\n",
        "\n",
        "Let's use Python to generate data that actually behaves in this fashion!"
      ]
    },
    {
      "cell_type": "code",
      "metadata": {
        "id": "WiBkgmPJhmhE",
        "colab_type": "code",
        "outputId": "ca676a1a-2b6e-48d9-c956-1f4351062430",
        "colab": {
          "base_uri": "https://localhost:8080/",
          "height": 1000
        }
      },
      "source": [
        "import random\n",
        "dir(random)  # Reminding ourselves what we can do here"
      ],
      "execution_count": 1,
      "outputs": [
        {
          "output_type": "execute_result",
          "data": {
            "text/plain": [
              "['BPF',\n",
              " 'LOG4',\n",
              " 'NV_MAGICCONST',\n",
              " 'RECIP_BPF',\n",
              " 'Random',\n",
              " 'SG_MAGICCONST',\n",
              " 'SystemRandom',\n",
              " 'TWOPI',\n",
              " '_BuiltinMethodType',\n",
              " '_MethodType',\n",
              " '_Sequence',\n",
              " '_Set',\n",
              " '__all__',\n",
              " '__builtins__',\n",
              " '__cached__',\n",
              " '__doc__',\n",
              " '__file__',\n",
              " '__loader__',\n",
              " '__name__',\n",
              " '__package__',\n",
              " '__spec__',\n",
              " '_acos',\n",
              " '_bisect',\n",
              " '_ceil',\n",
              " '_cos',\n",
              " '_e',\n",
              " '_exp',\n",
              " '_inst',\n",
              " '_itertools',\n",
              " '_log',\n",
              " '_pi',\n",
              " '_random',\n",
              " '_sha512',\n",
              " '_sin',\n",
              " '_sqrt',\n",
              " '_test',\n",
              " '_test_generator',\n",
              " '_urandom',\n",
              " '_warn',\n",
              " 'betavariate',\n",
              " 'choice',\n",
              " 'choices',\n",
              " 'expovariate',\n",
              " 'gammavariate',\n",
              " 'gauss',\n",
              " 'getrandbits',\n",
              " 'getstate',\n",
              " 'lognormvariate',\n",
              " 'normalvariate',\n",
              " 'paretovariate',\n",
              " 'randint',\n",
              " 'random',\n",
              " 'randrange',\n",
              " 'sample',\n",
              " 'seed',\n",
              " 'setstate',\n",
              " 'shuffle',\n",
              " 'triangular',\n",
              " 'uniform',\n",
              " 'vonmisesvariate',\n",
              " 'weibullvariate']"
            ]
          },
          "metadata": {
            "tags": []
          },
          "execution_count": 1
        }
      ]
    },
    {
      "cell_type": "code",
      "metadata": {
        "id": "Ks5qFtpnq-q5",
        "colab_type": "code",
        "outputId": "40283d54-7eb7-4983-b890-de2a17ec4463",
        "colab": {
          "base_uri": "https://localhost:8080/",
          "height": 36
        }
      },
      "source": [
        "# Let's think of another scenario:\n",
        "# We work for a company that sells accessories for mobile phones.\n",
        "# They have an ecommerce site, and we are supposed to analyze logs\n",
        "# to determine what sort of usage is related to purchases, and thus guide\n",
        "# website development to encourage higher conversion.\n",
        "\n",
        "# The hypothesis - users who spend longer on the site tend\n",
        "# to spend more. Seems reasonable, no?\n",
        "\n",
        "# But there's a confounding variable! If they're on a phone, they:\n",
        "# a) Spend less time on the site, but\n",
        "# b) Are more likely to be interested in the actual products!\n",
        "\n",
        "# Let's use namedtuple to represent our data\n",
        "\n",
        "from collections import namedtuple\n",
        "# purchased and mobile are bools, time_on_site in seconds\n",
        "User = namedtuple('User', ['purchased','time_on_site', 'mobile'])\n",
        "\n",
        "example_user = User(False, 12, False)\n",
        "print(example_user)"
      ],
      "execution_count": 2,
      "outputs": [
        {
          "output_type": "stream",
          "text": [
            "User(purchased=False, time_on_site=12, mobile=False)\n"
          ],
          "name": "stdout"
        }
      ]
    },
    {
      "cell_type": "code",
      "metadata": {
        "id": "lfPiHNG_sefL",
        "colab_type": "code",
        "outputId": "91b45e7f-0828-4d95-c987-48068d5987a5",
        "colab": {
          "base_uri": "https://localhost:8080/",
          "height": 56
        }
      },
      "source": [
        "# And now let's generate 1000 example users\n",
        "# 750 mobile, 250 not (i.e. desktop)\n",
        "# A desktop user has a base conversion likelihood of 10%\n",
        "# And it goes up by 1% for each 15 seconds they spend on the site\n",
        "# And they spend anywhere from 10 seconds to 10 minutes on the site (uniform)\n",
        "# Mobile users spend on average half as much time on the site as desktop\n",
        "# But have three times as much base likelihood of buying something\n",
        "\n",
        "random.seed(42)\n",
        "\n",
        "users = []\n",
        "\n",
        "for _ in range(250):\n",
        "  # Desktop users\n",
        "  time_on_site = random.uniform(10, 600)\n",
        "  purchased = random.random() < 0.1 + (time_on_site / 1500)\n",
        "  users.append(User(purchased, time_on_site, False))\n",
        "  \n",
        "for _ in range(750):\n",
        "  # Mobile users\n",
        "  time_on_site = random.uniform(5, 300)\n",
        "  purchased = random.random() < 0.3 + (time_on_site / 1500)\n",
        "  users.append(User(purchased, time_on_site, True))\n",
        "  \n",
        "random.shuffle(users)\n",
        "print(users[:10])"
      ],
      "execution_count": 26,
      "outputs": [
        {
          "output_type": "stream",
          "text": [
            "[User(purchased=False, time_on_site=150.42273427770718, mobile=False), User(purchased=True, time_on_site=284.06235530493245, mobile=True), User(purchased=True, time_on_site=140.37976895454653, mobile=True), User(purchased=True, time_on_site=49.206452507812216, mobile=True), User(purchased=False, time_on_site=167.81563803588924, mobile=True), User(purchased=False, time_on_site=20.484876517641524, mobile=True), User(purchased=False, time_on_site=167.3540069049869, mobile=True), User(purchased=False, time_on_site=447.75054592529114, mobile=False), User(purchased=True, time_on_site=57.93525538719398, mobile=True), User(purchased=True, time_on_site=292.6494305470663, mobile=True)]\n"
          ],
          "name": "stdout"
        }
      ]
    },
    {
      "cell_type": "code",
      "metadata": {
        "id": "9gDYb5qGuRzy",
        "colab_type": "code",
        "outputId": "4832ad0d-99b2-4387-9c0d-49b4a1273695",
        "colab": {
          "base_uri": "https://localhost:8080/",
          "height": 206
        }
      },
      "source": [
        "# Let's put this in a dataframe so we can look at it more easily\n",
        "import pandas as pd\n",
        "user_data = pd.DataFrame(users)\n",
        "user_data.head()"
      ],
      "execution_count": 27,
      "outputs": [
        {
          "output_type": "execute_result",
          "data": {
            "text/html": [
              "<div>\n",
              "<style scoped>\n",
              "    .dataframe tbody tr th:only-of-type {\n",
              "        vertical-align: middle;\n",
              "    }\n",
              "\n",
              "    .dataframe tbody tr th {\n",
              "        vertical-align: top;\n",
              "    }\n",
              "\n",
              "    .dataframe thead th {\n",
              "        text-align: right;\n",
              "    }\n",
              "</style>\n",
              "<table border=\"1\" class=\"dataframe\">\n",
              "  <thead>\n",
              "    <tr style=\"text-align: right;\">\n",
              "      <th></th>\n",
              "      <th>purchased</th>\n",
              "      <th>time_on_site</th>\n",
              "      <th>mobile</th>\n",
              "    </tr>\n",
              "  </thead>\n",
              "  <tbody>\n",
              "    <tr>\n",
              "      <th>0</th>\n",
              "      <td>False</td>\n",
              "      <td>150.422734</td>\n",
              "      <td>False</td>\n",
              "    </tr>\n",
              "    <tr>\n",
              "      <th>1</th>\n",
              "      <td>True</td>\n",
              "      <td>284.062355</td>\n",
              "      <td>True</td>\n",
              "    </tr>\n",
              "    <tr>\n",
              "      <th>2</th>\n",
              "      <td>True</td>\n",
              "      <td>140.379769</td>\n",
              "      <td>True</td>\n",
              "    </tr>\n",
              "    <tr>\n",
              "      <th>3</th>\n",
              "      <td>True</td>\n",
              "      <td>49.206453</td>\n",
              "      <td>True</td>\n",
              "    </tr>\n",
              "    <tr>\n",
              "      <th>4</th>\n",
              "      <td>False</td>\n",
              "      <td>167.815638</td>\n",
              "      <td>True</td>\n",
              "    </tr>\n",
              "  </tbody>\n",
              "</table>\n",
              "</div>"
            ],
            "text/plain": [
              "   purchased  time_on_site  mobile\n",
              "0      False    150.422734   False\n",
              "1       True    284.062355    True\n",
              "2       True    140.379769    True\n",
              "3       True     49.206453    True\n",
              "4      False    167.815638    True"
            ]
          },
          "metadata": {
            "tags": []
          },
          "execution_count": 27
        }
      ]
    },
    {
      "cell_type": "code",
      "metadata": {
        "id": "sr6IJv77ulVl",
        "colab_type": "code",
        "outputId": "0ac88304-336e-44a1-cce6-b630576f3294",
        "colab": {
          "base_uri": "https://localhost:8080/",
          "height": 163
        }
      },
      "source": [
        "# Let's use crosstabulation to try to see what's going on\n",
        "pd.crosstab(user_data['purchased'], user_data['time_on_site'])"
      ],
      "execution_count": 28,
      "outputs": [
        {
          "output_type": "execute_result",
          "data": {
            "text/html": [
              "<div>\n",
              "<style scoped>\n",
              "    .dataframe tbody tr th:only-of-type {\n",
              "        vertical-align: middle;\n",
              "    }\n",
              "\n",
              "    .dataframe tbody tr th {\n",
              "        vertical-align: top;\n",
              "    }\n",
              "\n",
              "    .dataframe thead th {\n",
              "        text-align: right;\n",
              "    }\n",
              "</style>\n",
              "<table border=\"1\" class=\"dataframe\">\n",
              "  <thead>\n",
              "    <tr style=\"text-align: right;\">\n",
              "      <th>time_on_site</th>\n",
              "      <th>5.789338167851291</th>\n",
              "      <th>5.836487686604824</th>\n",
              "      <th>7.267690340465448</th>\n",
              "      <th>7.280322437947023</th>\n",
              "      <th>7.733814701629437</th>\n",
              "      <th>7.772242279186957</th>\n",
              "      <th>7.994578759409748</th>\n",
              "      <th>8.373541587279558</th>\n",
              "      <th>9.106003254765849</th>\n",
              "      <th>9.38379653305911</th>\n",
              "      <th>9.615509927247123</th>\n",
              "      <th>9.848428900738856</th>\n",
              "      <th>10.23950442139964</th>\n",
              "      <th>10.337418715486669</th>\n",
              "      <th>10.586523414450706</th>\n",
              "      <th>10.718069679753153</th>\n",
              "      <th>10.997854148991385</th>\n",
              "      <th>11.012105109498041</th>\n",
              "      <th>11.706921559980145</th>\n",
              "      <th>12.091956561791557</th>\n",
              "      <th>12.382271645712285</th>\n",
              "      <th>12.75378790843838</th>\n",
              "      <th>12.995103670392169</th>\n",
              "      <th>13.370178930168896</th>\n",
              "      <th>15.920785346944974</th>\n",
              "      <th>16.135510245480567</th>\n",
              "      <th>16.75893133416585</th>\n",
              "      <th>16.773802946263586</th>\n",
              "      <th>16.868343577661772</th>\n",
              "      <th>17.362252869462687</th>\n",
              "      <th>17.479167161023454</th>\n",
              "      <th>17.922851319441314</th>\n",
              "      <th>18.36049180470949</th>\n",
              "      <th>18.567335759777762</th>\n",
              "      <th>19.359514766905985</th>\n",
              "      <th>19.468053978919983</th>\n",
              "      <th>19.833966879145127</th>\n",
              "      <th>20.484876517641524</th>\n",
              "      <th>20.710781715466965</th>\n",
              "      <th>20.814676916297277</th>\n",
              "      <th>...</th>\n",
              "      <th>513.5342908357718</th>\n",
              "      <th>515.4718990593212</th>\n",
              "      <th>517.1848861497105</th>\n",
              "      <th>518.3867964481467</th>\n",
              "      <th>518.4070711833585</th>\n",
              "      <th>520.1173607697788</th>\n",
              "      <th>524.578401914593</th>\n",
              "      <th>526.7532348231344</th>\n",
              "      <th>527.0568996188746</th>\n",
              "      <th>528.0256635303839</th>\n",
              "      <th>528.4459079156787</th>\n",
              "      <th>529.7098624749993</th>\n",
              "      <th>535.2695153363682</th>\n",
              "      <th>535.9412962281579</th>\n",
              "      <th>536.3859449458588</th>\n",
              "      <th>539.3527809076247</th>\n",
              "      <th>540.36553555062</th>\n",
              "      <th>542.6552719822238</th>\n",
              "      <th>543.3178572203369</th>\n",
              "      <th>548.4504252134441</th>\n",
              "      <th>549.5830779469206</th>\n",
              "      <th>561.9534019425959</th>\n",
              "      <th>564.1499127915823</th>\n",
              "      <th>564.814565730808</th>\n",
              "      <th>574.7557126020009</th>\n",
              "      <th>574.8174081072071</th>\n",
              "      <th>577.8952462993177</th>\n",
              "      <th>580.464571388533</th>\n",
              "      <th>581.5385253318037</th>\n",
              "      <th>581.7077917980032</th>\n",
              "      <th>582.5363605031145</th>\n",
              "      <th>582.9362427920347</th>\n",
              "      <th>588.8783154469735</th>\n",
              "      <th>590.65747470592</th>\n",
              "      <th>593.8187768755912</th>\n",
              "      <th>597.1381204299279</th>\n",
              "      <th>597.7116143416571</th>\n",
              "      <th>598.547187832115</th>\n",
              "      <th>599.088120104121</th>\n",
              "      <th>599.5766563635087</th>\n",
              "    </tr>\n",
              "    <tr>\n",
              "      <th>purchased</th>\n",
              "      <th></th>\n",
              "      <th></th>\n",
              "      <th></th>\n",
              "      <th></th>\n",
              "      <th></th>\n",
              "      <th></th>\n",
              "      <th></th>\n",
              "      <th></th>\n",
              "      <th></th>\n",
              "      <th></th>\n",
              "      <th></th>\n",
              "      <th></th>\n",
              "      <th></th>\n",
              "      <th></th>\n",
              "      <th></th>\n",
              "      <th></th>\n",
              "      <th></th>\n",
              "      <th></th>\n",
              "      <th></th>\n",
              "      <th></th>\n",
              "      <th></th>\n",
              "      <th></th>\n",
              "      <th></th>\n",
              "      <th></th>\n",
              "      <th></th>\n",
              "      <th></th>\n",
              "      <th></th>\n",
              "      <th></th>\n",
              "      <th></th>\n",
              "      <th></th>\n",
              "      <th></th>\n",
              "      <th></th>\n",
              "      <th></th>\n",
              "      <th></th>\n",
              "      <th></th>\n",
              "      <th></th>\n",
              "      <th></th>\n",
              "      <th></th>\n",
              "      <th></th>\n",
              "      <th></th>\n",
              "      <th></th>\n",
              "      <th></th>\n",
              "      <th></th>\n",
              "      <th></th>\n",
              "      <th></th>\n",
              "      <th></th>\n",
              "      <th></th>\n",
              "      <th></th>\n",
              "      <th></th>\n",
              "      <th></th>\n",
              "      <th></th>\n",
              "      <th></th>\n",
              "      <th></th>\n",
              "      <th></th>\n",
              "      <th></th>\n",
              "      <th></th>\n",
              "      <th></th>\n",
              "      <th></th>\n",
              "      <th></th>\n",
              "      <th></th>\n",
              "      <th></th>\n",
              "      <th></th>\n",
              "      <th></th>\n",
              "      <th></th>\n",
              "      <th></th>\n",
              "      <th></th>\n",
              "      <th></th>\n",
              "      <th></th>\n",
              "      <th></th>\n",
              "      <th></th>\n",
              "      <th></th>\n",
              "      <th></th>\n",
              "      <th></th>\n",
              "      <th></th>\n",
              "      <th></th>\n",
              "      <th></th>\n",
              "      <th></th>\n",
              "      <th></th>\n",
              "      <th></th>\n",
              "      <th></th>\n",
              "      <th></th>\n",
              "    </tr>\n",
              "  </thead>\n",
              "  <tbody>\n",
              "    <tr>\n",
              "      <th>False</th>\n",
              "      <td>1</td>\n",
              "      <td>1</td>\n",
              "      <td>0</td>\n",
              "      <td>1</td>\n",
              "      <td>1</td>\n",
              "      <td>1</td>\n",
              "      <td>1</td>\n",
              "      <td>1</td>\n",
              "      <td>1</td>\n",
              "      <td>1</td>\n",
              "      <td>0</td>\n",
              "      <td>1</td>\n",
              "      <td>1</td>\n",
              "      <td>1</td>\n",
              "      <td>1</td>\n",
              "      <td>1</td>\n",
              "      <td>1</td>\n",
              "      <td>0</td>\n",
              "      <td>0</td>\n",
              "      <td>1</td>\n",
              "      <td>1</td>\n",
              "      <td>1</td>\n",
              "      <td>1</td>\n",
              "      <td>0</td>\n",
              "      <td>1</td>\n",
              "      <td>1</td>\n",
              "      <td>1</td>\n",
              "      <td>1</td>\n",
              "      <td>1</td>\n",
              "      <td>1</td>\n",
              "      <td>0</td>\n",
              "      <td>0</td>\n",
              "      <td>1</td>\n",
              "      <td>1</td>\n",
              "      <td>1</td>\n",
              "      <td>1</td>\n",
              "      <td>1</td>\n",
              "      <td>1</td>\n",
              "      <td>1</td>\n",
              "      <td>0</td>\n",
              "      <td>...</td>\n",
              "      <td>1</td>\n",
              "      <td>1</td>\n",
              "      <td>0</td>\n",
              "      <td>0</td>\n",
              "      <td>1</td>\n",
              "      <td>1</td>\n",
              "      <td>1</td>\n",
              "      <td>0</td>\n",
              "      <td>0</td>\n",
              "      <td>1</td>\n",
              "      <td>1</td>\n",
              "      <td>1</td>\n",
              "      <td>0</td>\n",
              "      <td>1</td>\n",
              "      <td>0</td>\n",
              "      <td>1</td>\n",
              "      <td>0</td>\n",
              "      <td>1</td>\n",
              "      <td>1</td>\n",
              "      <td>1</td>\n",
              "      <td>0</td>\n",
              "      <td>1</td>\n",
              "      <td>0</td>\n",
              "      <td>1</td>\n",
              "      <td>0</td>\n",
              "      <td>1</td>\n",
              "      <td>0</td>\n",
              "      <td>0</td>\n",
              "      <td>1</td>\n",
              "      <td>1</td>\n",
              "      <td>0</td>\n",
              "      <td>1</td>\n",
              "      <td>1</td>\n",
              "      <td>0</td>\n",
              "      <td>1</td>\n",
              "      <td>1</td>\n",
              "      <td>1</td>\n",
              "      <td>1</td>\n",
              "      <td>1</td>\n",
              "      <td>1</td>\n",
              "    </tr>\n",
              "    <tr>\n",
              "      <th>True</th>\n",
              "      <td>0</td>\n",
              "      <td>0</td>\n",
              "      <td>1</td>\n",
              "      <td>0</td>\n",
              "      <td>0</td>\n",
              "      <td>0</td>\n",
              "      <td>0</td>\n",
              "      <td>0</td>\n",
              "      <td>0</td>\n",
              "      <td>0</td>\n",
              "      <td>1</td>\n",
              "      <td>0</td>\n",
              "      <td>0</td>\n",
              "      <td>0</td>\n",
              "      <td>0</td>\n",
              "      <td>0</td>\n",
              "      <td>0</td>\n",
              "      <td>1</td>\n",
              "      <td>1</td>\n",
              "      <td>0</td>\n",
              "      <td>0</td>\n",
              "      <td>0</td>\n",
              "      <td>0</td>\n",
              "      <td>1</td>\n",
              "      <td>0</td>\n",
              "      <td>0</td>\n",
              "      <td>0</td>\n",
              "      <td>0</td>\n",
              "      <td>0</td>\n",
              "      <td>0</td>\n",
              "      <td>1</td>\n",
              "      <td>1</td>\n",
              "      <td>0</td>\n",
              "      <td>0</td>\n",
              "      <td>0</td>\n",
              "      <td>0</td>\n",
              "      <td>0</td>\n",
              "      <td>0</td>\n",
              "      <td>0</td>\n",
              "      <td>1</td>\n",
              "      <td>...</td>\n",
              "      <td>0</td>\n",
              "      <td>0</td>\n",
              "      <td>1</td>\n",
              "      <td>1</td>\n",
              "      <td>0</td>\n",
              "      <td>0</td>\n",
              "      <td>0</td>\n",
              "      <td>1</td>\n",
              "      <td>1</td>\n",
              "      <td>0</td>\n",
              "      <td>0</td>\n",
              "      <td>0</td>\n",
              "      <td>1</td>\n",
              "      <td>0</td>\n",
              "      <td>1</td>\n",
              "      <td>0</td>\n",
              "      <td>1</td>\n",
              "      <td>0</td>\n",
              "      <td>0</td>\n",
              "      <td>0</td>\n",
              "      <td>1</td>\n",
              "      <td>0</td>\n",
              "      <td>1</td>\n",
              "      <td>0</td>\n",
              "      <td>1</td>\n",
              "      <td>0</td>\n",
              "      <td>1</td>\n",
              "      <td>1</td>\n",
              "      <td>0</td>\n",
              "      <td>0</td>\n",
              "      <td>1</td>\n",
              "      <td>0</td>\n",
              "      <td>0</td>\n",
              "      <td>1</td>\n",
              "      <td>0</td>\n",
              "      <td>0</td>\n",
              "      <td>0</td>\n",
              "      <td>0</td>\n",
              "      <td>0</td>\n",
              "      <td>0</td>\n",
              "    </tr>\n",
              "  </tbody>\n",
              "</table>\n",
              "</div>"
            ],
            "text/plain": [
              "time_on_site  5.789338    5.836488       ...      599.088120  599.576656\n",
              "purchased                                ...                            \n",
              "False                  1           1     ...               1           1\n",
              "True                   0           0     ...               0           0\n",
              "\n",
              "[2 rows x 1000 columns]"
            ]
          },
          "metadata": {
            "tags": []
          },
          "execution_count": 28
        }
      ]
    },
    {
      "cell_type": "code",
      "metadata": {
        "id": "hvAv6J3EwA9s",
        "colab_type": "code",
        "outputId": "c909eb24-b89e-4ce5-8b78-aa28a7a3b021",
        "colab": {
          "base_uri": "https://localhost:8080/",
          "height": 143
        }
      },
      "source": [
        "# OK, that's not quite what we want\n",
        "# Time is continuous! We need to put it in discrete buckets\n",
        "# Pandas calls these bins, and pandas.cut helps make them\n",
        "\n",
        "time_bins = pd.cut(user_data['time_on_site'], 5)  # 5 equal-sized bins\n",
        "pd.crosstab(user_data['purchased'], time_bins)"
      ],
      "execution_count": 29,
      "outputs": [
        {
          "output_type": "execute_result",
          "data": {
            "text/html": [
              "<div>\n",
              "<style scoped>\n",
              "    .dataframe tbody tr th:only-of-type {\n",
              "        vertical-align: middle;\n",
              "    }\n",
              "\n",
              "    .dataframe tbody tr th {\n",
              "        vertical-align: top;\n",
              "    }\n",
              "\n",
              "    .dataframe thead th {\n",
              "        text-align: right;\n",
              "    }\n",
              "</style>\n",
              "<table border=\"1\" class=\"dataframe\">\n",
              "  <thead>\n",
              "    <tr style=\"text-align: right;\">\n",
              "      <th>time_on_site</th>\n",
              "      <th>(5.196, 124.547]</th>\n",
              "      <th>(124.547, 243.304]</th>\n",
              "      <th>(243.304, 362.062]</th>\n",
              "      <th>(362.062, 480.819]</th>\n",
              "      <th>(480.819, 599.577]</th>\n",
              "    </tr>\n",
              "    <tr>\n",
              "      <th>purchased</th>\n",
              "      <th></th>\n",
              "      <th></th>\n",
              "      <th></th>\n",
              "      <th></th>\n",
              "      <th></th>\n",
              "    </tr>\n",
              "  </thead>\n",
              "  <tbody>\n",
              "    <tr>\n",
              "      <th>False</th>\n",
              "      <td>227</td>\n",
              "      <td>238</td>\n",
              "      <td>111</td>\n",
              "      <td>23</td>\n",
              "      <td>37</td>\n",
              "    </tr>\n",
              "    <tr>\n",
              "      <th>True</th>\n",
              "      <td>106</td>\n",
              "      <td>133</td>\n",
              "      <td>84</td>\n",
              "      <td>20</td>\n",
              "      <td>21</td>\n",
              "    </tr>\n",
              "  </tbody>\n",
              "</table>\n",
              "</div>"
            ],
            "text/plain": [
              "time_on_site  (5.196, 124.547]         ...          (480.819, 599.577]\n",
              "purchased                              ...                            \n",
              "False                      227         ...                          37\n",
              "True                       106         ...                          21\n",
              "\n",
              "[2 rows x 5 columns]"
            ]
          },
          "metadata": {
            "tags": []
          },
          "execution_count": 29
        }
      ]
    },
    {
      "cell_type": "code",
      "metadata": {
        "id": "HRzx7HMqA8DR",
        "colab_type": "code",
        "colab": {
          "base_uri": "https://localhost:8080/",
          "height": 36
        },
        "outputId": "8ee13156-0644-4149-e5b3-243f97cd3c82"
      },
      "source": [
        "pd.__version__"
      ],
      "execution_count": 30,
      "outputs": [
        {
          "output_type": "execute_result",
          "data": {
            "text/plain": [
              "'0.23.4'"
            ]
          },
          "metadata": {
            "tags": []
          },
          "execution_count": 30
        }
      ]
    },
    {
      "cell_type": "code",
      "metadata": {
        "id": "UziHuUZOAyTI",
        "colab_type": "code",
        "colab": {}
      },
      "source": [
        "#!pip install pandas==0.23.4"
      ],
      "execution_count": 0,
      "outputs": []
    },
    {
      "cell_type": "code",
      "metadata": {
        "id": "pjcXnJw0wfaj",
        "colab_type": "code",
        "outputId": "f4f54426-2bfa-4195-d7da-c68f87776d43",
        "colab": {
          "base_uri": "https://localhost:8080/",
          "height": 143
        }
      },
      "source": [
        "# We can make this a bit clearer by normalizing (getting %)\n",
        "pd.crosstab(user_data['purchased'], time_bins, normalize='columns')"
      ],
      "execution_count": 32,
      "outputs": [
        {
          "output_type": "execute_result",
          "data": {
            "text/html": [
              "<div>\n",
              "<style scoped>\n",
              "    .dataframe tbody tr th:only-of-type {\n",
              "        vertical-align: middle;\n",
              "    }\n",
              "\n",
              "    .dataframe tbody tr th {\n",
              "        vertical-align: top;\n",
              "    }\n",
              "\n",
              "    .dataframe thead th {\n",
              "        text-align: right;\n",
              "    }\n",
              "</style>\n",
              "<table border=\"1\" class=\"dataframe\">\n",
              "  <thead>\n",
              "    <tr style=\"text-align: right;\">\n",
              "      <th>time_on_site</th>\n",
              "      <th>(5.196, 124.547]</th>\n",
              "      <th>(124.547, 243.304]</th>\n",
              "      <th>(243.304, 362.062]</th>\n",
              "      <th>(362.062, 480.819]</th>\n",
              "      <th>(480.819, 599.577]</th>\n",
              "    </tr>\n",
              "    <tr>\n",
              "      <th>purchased</th>\n",
              "      <th></th>\n",
              "      <th></th>\n",
              "      <th></th>\n",
              "      <th></th>\n",
              "      <th></th>\n",
              "    </tr>\n",
              "  </thead>\n",
              "  <tbody>\n",
              "    <tr>\n",
              "      <th>False</th>\n",
              "      <td>0.681682</td>\n",
              "      <td>0.641509</td>\n",
              "      <td>0.569231</td>\n",
              "      <td>0.534884</td>\n",
              "      <td>0.637931</td>\n",
              "    </tr>\n",
              "    <tr>\n",
              "      <th>True</th>\n",
              "      <td>0.318318</td>\n",
              "      <td>0.358491</td>\n",
              "      <td>0.430769</td>\n",
              "      <td>0.465116</td>\n",
              "      <td>0.362069</td>\n",
              "    </tr>\n",
              "  </tbody>\n",
              "</table>\n",
              "</div>"
            ],
            "text/plain": [
              "time_on_site  (5.196, 124.547]         ...          (480.819, 599.577]\n",
              "purchased                              ...                            \n",
              "False                 0.681682         ...                    0.637931\n",
              "True                  0.318318         ...                    0.362069\n",
              "\n",
              "[2 rows x 5 columns]"
            ]
          },
          "metadata": {
            "tags": []
          },
          "execution_count": 32
        }
      ]
    },
    {
      "cell_type": "code",
      "metadata": {
        "id": "C3GzvDxlvZMa",
        "colab_type": "code",
        "outputId": "86b6f1c1-6143-467c-eee4-32e9452cb09b",
        "colab": {
          "base_uri": "https://localhost:8080/",
          "height": 143
        }
      },
      "source": [
        "# That seems counter to our hypothesis\n",
        "# More time on the site can actually have fewer purchases\n",
        "\n",
        "# But we know why, since we generated the data!\n",
        "# Let's look at mobile and purchased\n",
        "pd.crosstab(user_data['purchased'], user_data['mobile'], normalize='columns')"
      ],
      "execution_count": 33,
      "outputs": [
        {
          "output_type": "execute_result",
          "data": {
            "text/html": [
              "<div>\n",
              "<style scoped>\n",
              "    .dataframe tbody tr th:only-of-type {\n",
              "        vertical-align: middle;\n",
              "    }\n",
              "\n",
              "    .dataframe tbody tr th {\n",
              "        vertical-align: top;\n",
              "    }\n",
              "\n",
              "    .dataframe thead th {\n",
              "        text-align: right;\n",
              "    }\n",
              "</style>\n",
              "<table border=\"1\" class=\"dataframe\">\n",
              "  <thead>\n",
              "    <tr style=\"text-align: right;\">\n",
              "      <th>mobile</th>\n",
              "      <th>False</th>\n",
              "      <th>True</th>\n",
              "    </tr>\n",
              "    <tr>\n",
              "      <th>purchased</th>\n",
              "      <th></th>\n",
              "      <th></th>\n",
              "    </tr>\n",
              "  </thead>\n",
              "  <tbody>\n",
              "    <tr>\n",
              "      <th>False</th>\n",
              "      <td>0.704</td>\n",
              "      <td>0.613333</td>\n",
              "    </tr>\n",
              "    <tr>\n",
              "      <th>True</th>\n",
              "      <td>0.296</td>\n",
              "      <td>0.386667</td>\n",
              "    </tr>\n",
              "  </tbody>\n",
              "</table>\n",
              "</div>"
            ],
            "text/plain": [
              "mobile     False     True \n",
              "purchased                 \n",
              "False      0.704  0.613333\n",
              "True       0.296  0.386667"
            ]
          },
          "metadata": {
            "tags": []
          },
          "execution_count": 33
        }
      ]
    },
    {
      "cell_type": "code",
      "metadata": {
        "id": "KQb-wU60xCum",
        "colab_type": "code",
        "colab": {}
      },
      "source": [
        "# Yep, mobile users are more likely to buy things\n",
        "# But we're still not seeing the *whole* story until we look at all 3 at once\n",
        "\n",
        "# Live/stretch goal - how can we do that?"
      ],
      "execution_count": 0,
      "outputs": []
    },
    {
      "cell_type": "code",
      "metadata": {
        "id": "OpVLFUFACdID",
        "colab_type": "code",
        "colab": {}
      },
      "source": [
        "pd.crosstab?"
      ],
      "execution_count": 0,
      "outputs": []
    },
    {
      "cell_type": "code",
      "metadata": {
        "id": "6v4ZpBBZCfD_",
        "colab_type": "code",
        "colab": {
          "base_uri": "https://localhost:8080/",
          "height": 175
        },
        "outputId": "5cd731b8-a106-407e-d93a-3c76ec9f3762"
      },
      "source": [
        "pd.crosstab(user_data['purchased'], [time_bins, user_data['mobile']])"
      ],
      "execution_count": 36,
      "outputs": [
        {
          "output_type": "execute_result",
          "data": {
            "text/html": [
              "<div>\n",
              "<style scoped>\n",
              "    .dataframe tbody tr th:only-of-type {\n",
              "        vertical-align: middle;\n",
              "    }\n",
              "\n",
              "    .dataframe tbody tr th {\n",
              "        vertical-align: top;\n",
              "    }\n",
              "\n",
              "    .dataframe thead tr th {\n",
              "        text-align: left;\n",
              "    }\n",
              "\n",
              "    .dataframe thead tr:last-of-type th {\n",
              "        text-align: right;\n",
              "    }\n",
              "</style>\n",
              "<table border=\"1\" class=\"dataframe\">\n",
              "  <thead>\n",
              "    <tr>\n",
              "      <th>time_on_site</th>\n",
              "      <th colspan=\"2\" halign=\"left\">(5.196, 124.547]</th>\n",
              "      <th colspan=\"2\" halign=\"left\">(124.547, 243.304]</th>\n",
              "      <th colspan=\"2\" halign=\"left\">(243.304, 362.062]</th>\n",
              "      <th>(362.062, 480.819]</th>\n",
              "      <th>(480.819, 599.577]</th>\n",
              "    </tr>\n",
              "    <tr>\n",
              "      <th>mobile</th>\n",
              "      <th>False</th>\n",
              "      <th>True</th>\n",
              "      <th>False</th>\n",
              "      <th>True</th>\n",
              "      <th>False</th>\n",
              "      <th>True</th>\n",
              "      <th>False</th>\n",
              "      <th>False</th>\n",
              "    </tr>\n",
              "    <tr>\n",
              "      <th>purchased</th>\n",
              "      <th></th>\n",
              "      <th></th>\n",
              "      <th></th>\n",
              "      <th></th>\n",
              "      <th></th>\n",
              "      <th></th>\n",
              "      <th></th>\n",
              "      <th></th>\n",
              "    </tr>\n",
              "  </thead>\n",
              "  <tbody>\n",
              "    <tr>\n",
              "      <th>False</th>\n",
              "      <td>37</td>\n",
              "      <td>190</td>\n",
              "      <td>43</td>\n",
              "      <td>195</td>\n",
              "      <td>36</td>\n",
              "      <td>75</td>\n",
              "      <td>23</td>\n",
              "      <td>37</td>\n",
              "    </tr>\n",
              "    <tr>\n",
              "      <th>True</th>\n",
              "      <td>4</td>\n",
              "      <td>102</td>\n",
              "      <td>11</td>\n",
              "      <td>122</td>\n",
              "      <td>18</td>\n",
              "      <td>66</td>\n",
              "      <td>20</td>\n",
              "      <td>21</td>\n",
              "    </tr>\n",
              "  </tbody>\n",
              "</table>\n",
              "</div>"
            ],
            "text/plain": [
              "time_on_site (5.196, 124.547]        ...         (480.819, 599.577]\n",
              "mobile                  False        ...                      False\n",
              "purchased                            ...                           \n",
              "False                      37        ...                         37\n",
              "True                        4        ...                         21\n",
              "\n",
              "[2 rows x 8 columns]"
            ]
          },
          "metadata": {
            "tags": []
          },
          "execution_count": 36
        }
      ]
    },
    {
      "cell_type": "code",
      "metadata": {
        "id": "-dtXwcKIDB1A",
        "colab_type": "code",
        "colab": {
          "base_uri": "https://localhost:8080/",
          "height": 269
        },
        "outputId": "58dee05f-f15e-498e-81d2-0da3e0cfcf18"
      },
      "source": [
        "ct = pd.crosstab(time_bins, [user_data['purchased'], user_data['mobile']], normalize='columns')\n",
        "ct"
      ],
      "execution_count": 43,
      "outputs": [
        {
          "output_type": "execute_result",
          "data": {
            "text/html": [
              "<div>\n",
              "<style scoped>\n",
              "    .dataframe tbody tr th:only-of-type {\n",
              "        vertical-align: middle;\n",
              "    }\n",
              "\n",
              "    .dataframe tbody tr th {\n",
              "        vertical-align: top;\n",
              "    }\n",
              "\n",
              "    .dataframe thead tr th {\n",
              "        text-align: left;\n",
              "    }\n",
              "\n",
              "    .dataframe thead tr:last-of-type th {\n",
              "        text-align: right;\n",
              "    }\n",
              "</style>\n",
              "<table border=\"1\" class=\"dataframe\">\n",
              "  <thead>\n",
              "    <tr>\n",
              "      <th>purchased</th>\n",
              "      <th colspan=\"2\" halign=\"left\">False</th>\n",
              "      <th colspan=\"2\" halign=\"left\">True</th>\n",
              "    </tr>\n",
              "    <tr>\n",
              "      <th>mobile</th>\n",
              "      <th>False</th>\n",
              "      <th>True</th>\n",
              "      <th>False</th>\n",
              "      <th>True</th>\n",
              "    </tr>\n",
              "    <tr>\n",
              "      <th>time_on_site</th>\n",
              "      <th></th>\n",
              "      <th></th>\n",
              "      <th></th>\n",
              "      <th></th>\n",
              "    </tr>\n",
              "  </thead>\n",
              "  <tbody>\n",
              "    <tr>\n",
              "      <th>(5.196, 124.547]</th>\n",
              "      <td>0.210227</td>\n",
              "      <td>0.413043</td>\n",
              "      <td>0.054054</td>\n",
              "      <td>0.351724</td>\n",
              "    </tr>\n",
              "    <tr>\n",
              "      <th>(124.547, 243.304]</th>\n",
              "      <td>0.244318</td>\n",
              "      <td>0.423913</td>\n",
              "      <td>0.148649</td>\n",
              "      <td>0.420690</td>\n",
              "    </tr>\n",
              "    <tr>\n",
              "      <th>(243.304, 362.062]</th>\n",
              "      <td>0.204545</td>\n",
              "      <td>0.163043</td>\n",
              "      <td>0.243243</td>\n",
              "      <td>0.227586</td>\n",
              "    </tr>\n",
              "    <tr>\n",
              "      <th>(362.062, 480.819]</th>\n",
              "      <td>0.130682</td>\n",
              "      <td>0.000000</td>\n",
              "      <td>0.270270</td>\n",
              "      <td>0.000000</td>\n",
              "    </tr>\n",
              "    <tr>\n",
              "      <th>(480.819, 599.577]</th>\n",
              "      <td>0.210227</td>\n",
              "      <td>0.000000</td>\n",
              "      <td>0.283784</td>\n",
              "      <td>0.000000</td>\n",
              "    </tr>\n",
              "  </tbody>\n",
              "</table>\n",
              "</div>"
            ],
            "text/plain": [
              "purchased              False               True           \n",
              "mobile                 False     True      False     True \n",
              "time_on_site                                              \n",
              "(5.196, 124.547]    0.210227  0.413043  0.054054  0.351724\n",
              "(124.547, 243.304]  0.244318  0.423913  0.148649  0.420690\n",
              "(243.304, 362.062]  0.204545  0.163043  0.243243  0.227586\n",
              "(362.062, 480.819]  0.130682  0.000000  0.270270  0.000000\n",
              "(480.819, 599.577]  0.210227  0.000000  0.283784  0.000000"
            ]
          },
          "metadata": {
            "tags": []
          },
          "execution_count": 43
        }
      ]
    },
    {
      "cell_type": "code",
      "metadata": {
        "id": "EfJzQfyxDs_P",
        "colab_type": "code",
        "colab": {
          "base_uri": "https://localhost:8080/",
          "height": 269
        },
        "outputId": "665dd23e-65f2-4961-af3d-55e46888c28e"
      },
      "source": [
        "ct_subset = ct.iloc[:, [2,3]]\n",
        "ct_subset"
      ],
      "execution_count": 38,
      "outputs": [
        {
          "output_type": "execute_result",
          "data": {
            "text/html": [
              "<div>\n",
              "<style scoped>\n",
              "    .dataframe tbody tr th:only-of-type {\n",
              "        vertical-align: middle;\n",
              "    }\n",
              "\n",
              "    .dataframe tbody tr th {\n",
              "        vertical-align: top;\n",
              "    }\n",
              "\n",
              "    .dataframe thead tr th {\n",
              "        text-align: left;\n",
              "    }\n",
              "\n",
              "    .dataframe thead tr:last-of-type th {\n",
              "        text-align: right;\n",
              "    }\n",
              "</style>\n",
              "<table border=\"1\" class=\"dataframe\">\n",
              "  <thead>\n",
              "    <tr>\n",
              "      <th>purchased</th>\n",
              "      <th colspan=\"2\" halign=\"left\">True</th>\n",
              "    </tr>\n",
              "    <tr>\n",
              "      <th>mobile</th>\n",
              "      <th>False</th>\n",
              "      <th>True</th>\n",
              "    </tr>\n",
              "    <tr>\n",
              "      <th>time_on_site</th>\n",
              "      <th></th>\n",
              "      <th></th>\n",
              "    </tr>\n",
              "  </thead>\n",
              "  <tbody>\n",
              "    <tr>\n",
              "      <th>(5.196, 124.547]</th>\n",
              "      <td>0.054054</td>\n",
              "      <td>0.351724</td>\n",
              "    </tr>\n",
              "    <tr>\n",
              "      <th>(124.547, 243.304]</th>\n",
              "      <td>0.148649</td>\n",
              "      <td>0.420690</td>\n",
              "    </tr>\n",
              "    <tr>\n",
              "      <th>(243.304, 362.062]</th>\n",
              "      <td>0.243243</td>\n",
              "      <td>0.227586</td>\n",
              "    </tr>\n",
              "    <tr>\n",
              "      <th>(362.062, 480.819]</th>\n",
              "      <td>0.270270</td>\n",
              "      <td>0.000000</td>\n",
              "    </tr>\n",
              "    <tr>\n",
              "      <th>(480.819, 599.577]</th>\n",
              "      <td>0.283784</td>\n",
              "      <td>0.000000</td>\n",
              "    </tr>\n",
              "  </tbody>\n",
              "</table>\n",
              "</div>"
            ],
            "text/plain": [
              "purchased               True          \n",
              "mobile                 False     True \n",
              "time_on_site                          \n",
              "(5.196, 124.547]    0.054054  0.351724\n",
              "(124.547, 243.304]  0.148649  0.420690\n",
              "(243.304, 362.062]  0.243243  0.227586\n",
              "(362.062, 480.819]  0.270270  0.000000\n",
              "(480.819, 599.577]  0.283784  0.000000"
            ]
          },
          "metadata": {
            "tags": []
          },
          "execution_count": 38
        }
      ]
    },
    {
      "cell_type": "code",
      "metadata": {
        "id": "l-60KhCJEmQ3",
        "colab_type": "code",
        "colab": {
          "base_uri": "https://localhost:8080/",
          "height": 293
        },
        "outputId": "0dc602d4-acb7-4d70-c4ee-b97dc773e80c"
      },
      "source": [
        "ct_subset.plot()"
      ],
      "execution_count": 39,
      "outputs": [
        {
          "output_type": "execute_result",
          "data": {
            "text/plain": [
              "<matplotlib.axes._subplots.AxesSubplot at 0x7f7bfb410da0>"
            ]
          },
          "metadata": {
            "tags": []
          },
          "execution_count": 39
        },
        {
          "output_type": "display_data",
          "data": {
            "image/png": "[encoded data removed]",
            "text/plain": [
              "<Figure size 432x288 with 1 Axes>"
            ]
          },
          "metadata": {
            "tags": []
          }
        }
      ]
    },
    {
      "cell_type": "code",
      "metadata": {
        "id": "BZ4dWKT4Er6Z",
        "colab_type": "code",
        "colab": {
          "base_uri": "https://localhost:8080/",
          "height": 389
        },
        "outputId": "c97d4f13-683d-4261-f634-41154ea5284d"
      },
      "source": [
        "ct_subset.plot(kind='bar')"
      ],
      "execution_count": 40,
      "outputs": [
        {
          "output_type": "execute_result",
          "data": {
            "text/plain": [
              "<matplotlib.axes._subplots.AxesSubplot at 0x7f7bfb3b4630>"
            ]
          },
          "metadata": {
            "tags": []
          },
          "execution_count": 40
        },
        {
          "output_type": "display_data",
          "data": {
            "image/png": "[encoded data removed]",
            "text/plain": [
              "<Figure size 432x288 with 1 Axes>"
            ]
          },
          "metadata": {
            "tags": []
          }
        }
      ]
    },
    {
      "cell_type": "code",
      "metadata": {
        "id": "IvZCRM-uFD2I",
        "colab_type": "code",
        "colab": {}
      },
      "source": [
        ""
      ],
      "execution_count": 0,
      "outputs": []
    },
    {
      "cell_type": "markdown",
      "metadata": {
        "id": "kPxkF7r7JGhx",
        "colab_type": "text"
      },
      "source": [
        "# MTL Bikepath dataset"
      ]
    },
    {
      "cell_type": "code",
      "metadata": {
        "id": "X3ybJaSQJvSu",
        "colab_type": "code",
        "colab": {}
      },
      "source": [
        "# https://nbviewer.jupyter.org/github/jvns/pandas-cookbook/tree/master/cookbook/"
      ],
      "execution_count": 0,
      "outputs": []
    },
    {
      "cell_type": "code",
      "metadata": {
        "id": "O_NjsT6nJJ7A",
        "colab_type": "code",
        "colab": {}
      },
      "source": [
        "bike_data_url = \"https://raw.githubusercontent.com/jvns/pandas-cookbook/master/data/bikes.csv\""
      ],
      "execution_count": 0,
      "outputs": []
    },
    {
      "cell_type": "code",
      "metadata": {
        "id": "_FXorIzgJLR6",
        "colab_type": "code",
        "colab": {
          "base_uri": "https://localhost:8080/",
          "height": 255
        },
        "outputId": "145ef462-1edf-4413-b95b-f4e6c6071dc4"
      },
      "source": [
        "df = pd.read_csv(bike_data_url, sep=';', encoding='latin1', parse_dates=['Date'], dayfirst=True, index_col='Date')\n",
        "df.head()"
      ],
      "execution_count": 59,
      "outputs": [
        {
          "output_type": "execute_result",
          "data": {
            "text/html": [
              "<div>\n",
              "<style scoped>\n",
              "    .dataframe tbody tr th:only-of-type {\n",
              "        vertical-align: middle;\n",
              "    }\n",
              "\n",
              "    .dataframe tbody tr th {\n",
              "        vertical-align: top;\n",
              "    }\n",
              "\n",
              "    .dataframe thead th {\n",
              "        text-align: right;\n",
              "    }\n",
              "</style>\n",
              "<table border=\"1\" class=\"dataframe\">\n",
              "  <thead>\n",
              "    <tr style=\"text-align: right;\">\n",
              "      <th></th>\n",
              "      <th>Berri 1</th>\n",
              "      <th>Brébeuf (données non disponibles)</th>\n",
              "      <th>Côte-Sainte-Catherine</th>\n",
              "      <th>Maisonneuve 1</th>\n",
              "      <th>Maisonneuve 2</th>\n",
              "      <th>du Parc</th>\n",
              "      <th>Pierre-Dupuy</th>\n",
              "      <th>Rachel1</th>\n",
              "      <th>St-Urbain (données non disponibles)</th>\n",
              "    </tr>\n",
              "    <tr>\n",
              "      <th>Date</th>\n",
              "      <th></th>\n",
              "      <th></th>\n",
              "      <th></th>\n",
              "      <th></th>\n",
              "      <th></th>\n",
              "      <th></th>\n",
              "      <th></th>\n",
              "      <th></th>\n",
              "      <th></th>\n",
              "    </tr>\n",
              "  </thead>\n",
              "  <tbody>\n",
              "    <tr>\n",
              "      <th>2012-01-01</th>\n",
              "      <td>35</td>\n",
              "      <td>NaN</td>\n",
              "      <td>0</td>\n",
              "      <td>38</td>\n",
              "      <td>51</td>\n",
              "      <td>26</td>\n",
              "      <td>10</td>\n",
              "      <td>16</td>\n",
              "      <td>NaN</td>\n",
              "    </tr>\n",
              "    <tr>\n",
              "      <th>2012-01-02</th>\n",
              "      <td>83</td>\n",
              "      <td>NaN</td>\n",
              "      <td>1</td>\n",
              "      <td>68</td>\n",
              "      <td>153</td>\n",
              "      <td>53</td>\n",
              "      <td>6</td>\n",
              "      <td>43</td>\n",
              "      <td>NaN</td>\n",
              "    </tr>\n",
              "    <tr>\n",
              "      <th>2012-01-03</th>\n",
              "      <td>135</td>\n",
              "      <td>NaN</td>\n",
              "      <td>2</td>\n",
              "      <td>104</td>\n",
              "      <td>248</td>\n",
              "      <td>89</td>\n",
              "      <td>3</td>\n",
              "      <td>58</td>\n",
              "      <td>NaN</td>\n",
              "    </tr>\n",
              "    <tr>\n",
              "      <th>2012-01-04</th>\n",
              "      <td>144</td>\n",
              "      <td>NaN</td>\n",
              "      <td>1</td>\n",
              "      <td>116</td>\n",
              "      <td>318</td>\n",
              "      <td>111</td>\n",
              "      <td>8</td>\n",
              "      <td>61</td>\n",
              "      <td>NaN</td>\n",
              "    </tr>\n",
              "    <tr>\n",
              "      <th>2012-01-05</th>\n",
              "      <td>197</td>\n",
              "      <td>NaN</td>\n",
              "      <td>2</td>\n",
              "      <td>124</td>\n",
              "      <td>330</td>\n",
              "      <td>97</td>\n",
              "      <td>13</td>\n",
              "      <td>95</td>\n",
              "      <td>NaN</td>\n",
              "    </tr>\n",
              "  </tbody>\n",
              "</table>\n",
              "</div>"
            ],
            "text/plain": [
              "            Berri 1                 ...                   St-Urbain (données non disponibles)\n",
              "Date                                ...                                                      \n",
              "2012-01-01       35                 ...                                                   NaN\n",
              "2012-01-02       83                 ...                                                   NaN\n",
              "2012-01-03      135                 ...                                                   NaN\n",
              "2012-01-04      144                 ...                                                   NaN\n",
              "2012-01-05      197                 ...                                                   NaN\n",
              "\n",
              "[5 rows x 9 columns]"
            ]
          },
          "metadata": {
            "tags": []
          },
          "execution_count": 59
        }
      ]
    },
    {
      "cell_type": "code",
      "metadata": {
        "id": "zBXXhlm8JlVZ",
        "colab_type": "code",
        "colab": {
          "base_uri": "https://localhost:8080/",
          "height": 36
        },
        "outputId": "49340f3f-de7c-4001-db03-a356f8c582ab"
      },
      "source": [
        "!pip install unidecode"
      ],
      "execution_count": 60,
      "outputs": [
        {
          "output_type": "stream",
          "text": [
            "Requirement already satisfied: unidecode in /usr/local/lib/python3.6/dist-packages (1.1.1)\n"
          ],
          "name": "stdout"
        }
      ]
    },
    {
      "cell_type": "code",
      "metadata": {
        "id": "Xqvm-KpeJzzQ",
        "colab_type": "code",
        "colab": {
          "base_uri": "https://localhost:8080/",
          "height": 184
        },
        "outputId": "19daecfe-c076-43d0-9a29-fab2313d0e71"
      },
      "source": [
        "import unidecode\n",
        "\n",
        "new_cols = [unidecode.unidecode(col).lower() for col in df.columns]\n",
        "new_cols"
      ],
      "execution_count": 61,
      "outputs": [
        {
          "output_type": "execute_result",
          "data": {
            "text/plain": [
              "['berri 1',\n",
              " 'brebeuf (donnees non disponibles)',\n",
              " 'cote-sainte-catherine',\n",
              " 'maisonneuve 1',\n",
              " 'maisonneuve 2',\n",
              " 'du parc',\n",
              " 'pierre-dupuy',\n",
              " 'rachel1',\n",
              " 'st-urbain (donnees non disponibles)']"
            ]
          },
          "metadata": {
            "tags": []
          },
          "execution_count": 61
        }
      ]
    },
    {
      "cell_type": "code",
      "metadata": {
        "id": "QDR-APYbKD0A",
        "colab_type": "code",
        "colab": {
          "base_uri": "https://localhost:8080/",
          "height": 255
        },
        "outputId": "e153b13c-8eb4-49cc-a787-7fa947d443ff"
      },
      "source": [
        "df.columns = new_cols\n",
        "df.head()"
      ],
      "execution_count": 62,
      "outputs": [
        {
          "output_type": "execute_result",
          "data": {
            "text/html": [
              "<div>\n",
              "<style scoped>\n",
              "    .dataframe tbody tr th:only-of-type {\n",
              "        vertical-align: middle;\n",
              "    }\n",
              "\n",
              "    .dataframe tbody tr th {\n",
              "        vertical-align: top;\n",
              "    }\n",
              "\n",
              "    .dataframe thead th {\n",
              "        text-align: right;\n",
              "    }\n",
              "</style>\n",
              "<table border=\"1\" class=\"dataframe\">\n",
              "  <thead>\n",
              "    <tr style=\"text-align: right;\">\n",
              "      <th></th>\n",
              "      <th>berri 1</th>\n",
              "      <th>brebeuf (donnees non disponibles)</th>\n",
              "      <th>cote-sainte-catherine</th>\n",
              "      <th>maisonneuve 1</th>\n",
              "      <th>maisonneuve 2</th>\n",
              "      <th>du parc</th>\n",
              "      <th>pierre-dupuy</th>\n",
              "      <th>rachel1</th>\n",
              "      <th>st-urbain (donnees non disponibles)</th>\n",
              "    </tr>\n",
              "    <tr>\n",
              "      <th>Date</th>\n",
              "      <th></th>\n",
              "      <th></th>\n",
              "      <th></th>\n",
              "      <th></th>\n",
              "      <th></th>\n",
              "      <th></th>\n",
              "      <th></th>\n",
              "      <th></th>\n",
              "      <th></th>\n",
              "    </tr>\n",
              "  </thead>\n",
              "  <tbody>\n",
              "    <tr>\n",
              "      <th>2012-01-01</th>\n",
              "      <td>35</td>\n",
              "      <td>NaN</td>\n",
              "      <td>0</td>\n",
              "      <td>38</td>\n",
              "      <td>51</td>\n",
              "      <td>26</td>\n",
              "      <td>10</td>\n",
              "      <td>16</td>\n",
              "      <td>NaN</td>\n",
              "    </tr>\n",
              "    <tr>\n",
              "      <th>2012-01-02</th>\n",
              "      <td>83</td>\n",
              "      <td>NaN</td>\n",
              "      <td>1</td>\n",
              "      <td>68</td>\n",
              "      <td>153</td>\n",
              "      <td>53</td>\n",
              "      <td>6</td>\n",
              "      <td>43</td>\n",
              "      <td>NaN</td>\n",
              "    </tr>\n",
              "    <tr>\n",
              "      <th>2012-01-03</th>\n",
              "      <td>135</td>\n",
              "      <td>NaN</td>\n",
              "      <td>2</td>\n",
              "      <td>104</td>\n",
              "      <td>248</td>\n",
              "      <td>89</td>\n",
              "      <td>3</td>\n",
              "      <td>58</td>\n",
              "      <td>NaN</td>\n",
              "    </tr>\n",
              "    <tr>\n",
              "      <th>2012-01-04</th>\n",
              "      <td>144</td>\n",
              "      <td>NaN</td>\n",
              "      <td>1</td>\n",
              "      <td>116</td>\n",
              "      <td>318</td>\n",
              "      <td>111</td>\n",
              "      <td>8</td>\n",
              "      <td>61</td>\n",
              "      <td>NaN</td>\n",
              "    </tr>\n",
              "    <tr>\n",
              "      <th>2012-01-05</th>\n",
              "      <td>197</td>\n",
              "      <td>NaN</td>\n",
              "      <td>2</td>\n",
              "      <td>124</td>\n",
              "      <td>330</td>\n",
              "      <td>97</td>\n",
              "      <td>13</td>\n",
              "      <td>95</td>\n",
              "      <td>NaN</td>\n",
              "    </tr>\n",
              "  </tbody>\n",
              "</table>\n",
              "</div>"
            ],
            "text/plain": [
              "            berri 1                 ...                   st-urbain (donnees non disponibles)\n",
              "Date                                ...                                                      \n",
              "2012-01-01       35                 ...                                                   NaN\n",
              "2012-01-02       83                 ...                                                   NaN\n",
              "2012-01-03      135                 ...                                                   NaN\n",
              "2012-01-04      144                 ...                                                   NaN\n",
              "2012-01-05      197                 ...                                                   NaN\n",
              "\n",
              "[5 rows x 9 columns]"
            ]
          },
          "metadata": {
            "tags": []
          },
          "execution_count": 62
        }
      ]
    },
    {
      "cell_type": "code",
      "metadata": {
        "id": "xPlNAW9vKHZZ",
        "colab_type": "code",
        "colab": {}
      },
      "source": [
        "import matplotlib.pyplot as plt\n",
        "\n",
        "plt.style.use('ggplot')"
      ],
      "execution_count": 0,
      "outputs": []
    },
    {
      "cell_type": "code",
      "metadata": {
        "id": "uaL7dAuSKHcT",
        "colab_type": "code",
        "colab": {
          "base_uri": "https://localhost:8080/",
          "height": 703
        },
        "outputId": "bb7609d6-3e4b-45f5-a575-c3aae2c715de"
      },
      "source": [
        "with plt.xkcd():\n",
        "  df.plot(figsize=(15,10))"
      ],
      "execution_count": 65,
      "outputs": [
        {
          "output_type": "stream",
          "text": [
            "/usr/local/lib/python3.6/dist-packages/matplotlib/font_manager.py:1241: UserWarning: findfont: Font family ['xkcd', 'xkcd Script', 'Humor Sans', 'Comic Sans MS'] not found. Falling back to DejaVu Sans.\n",
            "  (prop.get_family(), self.defaultFamily[fontext]))\n"
          ],
          "name": "stderr"
        },
        {
          "output_type": "display_data",
          "data": {
            "image/png": "[encoded data removed]",
            "text/plain": [
              "<Figure size 1080x720 with 1 Axes>"
            ]
          },
          "metadata": {
            "tags": []
          }
        }
      ]
    },
    {
      "cell_type": "code",
      "metadata": {
        "id": "cqd9PE2jKHfY",
        "colab_type": "code",
        "colab": {}
      },
      "source": [
        "cols = ['pierre-dupuy', 'berri 1']\n",
        "bike_path = df[cols]#.copy()"
      ],
      "execution_count": 0,
      "outputs": []
    },
    {
      "cell_type": "code",
      "metadata": {
        "id": "1DihXpd4LG1p",
        "colab_type": "code",
        "colab": {
          "base_uri": "https://localhost:8080/",
          "height": 1000
        },
        "outputId": "5736647f-6568-4860-a2e3-27814976d379"
      },
      "source": [
        "bike_path"
      ],
      "execution_count": 103,
      "outputs": [
        {
          "output_type": "execute_result",
          "data": {
            "text/html": [
              "<div>\n",
              "<style scoped>\n",
              "    .dataframe tbody tr th:only-of-type {\n",
              "        vertical-align: middle;\n",
              "    }\n",
              "\n",
              "    .dataframe tbody tr th {\n",
              "        vertical-align: top;\n",
              "    }\n",
              "\n",
              "    .dataframe thead th {\n",
              "        text-align: right;\n",
              "    }\n",
              "</style>\n",
              "<table border=\"1\" class=\"dataframe\">\n",
              "  <thead>\n",
              "    <tr style=\"text-align: right;\">\n",
              "      <th></th>\n",
              "      <th>pierre-dupuy</th>\n",
              "      <th>berri 1</th>\n",
              "    </tr>\n",
              "    <tr>\n",
              "      <th>Date</th>\n",
              "      <th></th>\n",
              "      <th></th>\n",
              "    </tr>\n",
              "  </thead>\n",
              "  <tbody>\n",
              "    <tr>\n",
              "      <th>2012-01-01</th>\n",
              "      <td>10</td>\n",
              "      <td>35</td>\n",
              "    </tr>\n",
              "    <tr>\n",
              "      <th>2012-01-02</th>\n",
              "      <td>6</td>\n",
              "      <td>83</td>\n",
              "    </tr>\n",
              "    <tr>\n",
              "      <th>2012-01-03</th>\n",
              "      <td>3</td>\n",
              "      <td>135</td>\n",
              "    </tr>\n",
              "    <tr>\n",
              "      <th>2012-01-04</th>\n",
              "      <td>8</td>\n",
              "      <td>144</td>\n",
              "    </tr>\n",
              "    <tr>\n",
              "      <th>2012-01-05</th>\n",
              "      <td>13</td>\n",
              "      <td>197</td>\n",
              "    </tr>\n",
              "    <tr>\n",
              "      <th>2012-01-06</th>\n",
              "      <td>4</td>\n",
              "      <td>146</td>\n",
              "    </tr>\n",
              "    <tr>\n",
              "      <th>2012-01-07</th>\n",
              "      <td>6</td>\n",
              "      <td>98</td>\n",
              "    </tr>\n",
              "    <tr>\n",
              "      <th>2012-01-08</th>\n",
              "      <td>11</td>\n",
              "      <td>95</td>\n",
              "    </tr>\n",
              "    <tr>\n",
              "      <th>2012-01-09</th>\n",
              "      <td>12</td>\n",
              "      <td>244</td>\n",
              "    </tr>\n",
              "    <tr>\n",
              "      <th>2012-01-10</th>\n",
              "      <td>18</td>\n",
              "      <td>397</td>\n",
              "    </tr>\n",
              "    <tr>\n",
              "      <th>2012-01-11</th>\n",
              "      <td>12</td>\n",
              "      <td>273</td>\n",
              "    </tr>\n",
              "    <tr>\n",
              "      <th>2012-01-12</th>\n",
              "      <td>9</td>\n",
              "      <td>157</td>\n",
              "    </tr>\n",
              "    <tr>\n",
              "      <th>2012-01-13</th>\n",
              "      <td>2</td>\n",
              "      <td>75</td>\n",
              "    </tr>\n",
              "    <tr>\n",
              "      <th>2012-01-14</th>\n",
              "      <td>0</td>\n",
              "      <td>32</td>\n",
              "    </tr>\n",
              "    <tr>\n",
              "      <th>2012-01-15</th>\n",
              "      <td>0</td>\n",
              "      <td>54</td>\n",
              "    </tr>\n",
              "    <tr>\n",
              "      <th>2012-01-16</th>\n",
              "      <td>1</td>\n",
              "      <td>168</td>\n",
              "    </tr>\n",
              "    <tr>\n",
              "      <th>2012-01-17</th>\n",
              "      <td>0</td>\n",
              "      <td>155</td>\n",
              "    </tr>\n",
              "    <tr>\n",
              "      <th>2012-01-18</th>\n",
              "      <td>3</td>\n",
              "      <td>139</td>\n",
              "    </tr>\n",
              "    <tr>\n",
              "      <th>2012-01-19</th>\n",
              "      <td>3</td>\n",
              "      <td>191</td>\n",
              "    </tr>\n",
              "    <tr>\n",
              "      <th>2012-01-20</th>\n",
              "      <td>1</td>\n",
              "      <td>161</td>\n",
              "    </tr>\n",
              "    <tr>\n",
              "      <th>2012-01-21</th>\n",
              "      <td>1</td>\n",
              "      <td>53</td>\n",
              "    </tr>\n",
              "    <tr>\n",
              "      <th>2012-01-22</th>\n",
              "      <td>5</td>\n",
              "      <td>71</td>\n",
              "    </tr>\n",
              "    <tr>\n",
              "      <th>2012-01-23</th>\n",
              "      <td>6</td>\n",
              "      <td>210</td>\n",
              "    </tr>\n",
              "    <tr>\n",
              "      <th>2012-01-24</th>\n",
              "      <td>4</td>\n",
              "      <td>299</td>\n",
              "    </tr>\n",
              "    <tr>\n",
              "      <th>2012-01-25</th>\n",
              "      <td>4</td>\n",
              "      <td>334</td>\n",
              "    </tr>\n",
              "    <tr>\n",
              "      <th>2012-01-26</th>\n",
              "      <td>0</td>\n",
              "      <td>306</td>\n",
              "    </tr>\n",
              "    <tr>\n",
              "      <th>2012-01-27</th>\n",
              "      <td>0</td>\n",
              "      <td>91</td>\n",
              "    </tr>\n",
              "    <tr>\n",
              "      <th>2012-01-28</th>\n",
              "      <td>9</td>\n",
              "      <td>80</td>\n",
              "    </tr>\n",
              "    <tr>\n",
              "      <th>2012-01-29</th>\n",
              "      <td>7</td>\n",
              "      <td>87</td>\n",
              "    </tr>\n",
              "    <tr>\n",
              "      <th>2012-01-30</th>\n",
              "      <td>2</td>\n",
              "      <td>219</td>\n",
              "    </tr>\n",
              "    <tr>\n",
              "      <th>...</th>\n",
              "      <td>...</td>\n",
              "      <td>...</td>\n",
              "    </tr>\n",
              "    <tr>\n",
              "      <th>2012-10-07</th>\n",
              "      <td>695</td>\n",
              "      <td>1580</td>\n",
              "    </tr>\n",
              "    <tr>\n",
              "      <th>2012-10-08</th>\n",
              "      <td>1115</td>\n",
              "      <td>1854</td>\n",
              "    </tr>\n",
              "    <tr>\n",
              "      <th>2012-10-09</th>\n",
              "      <td>927</td>\n",
              "      <td>4787</td>\n",
              "    </tr>\n",
              "    <tr>\n",
              "      <th>2012-10-10</th>\n",
              "      <td>560</td>\n",
              "      <td>3115</td>\n",
              "    </tr>\n",
              "    <tr>\n",
              "      <th>2012-10-11</th>\n",
              "      <td>558</td>\n",
              "      <td>3746</td>\n",
              "    </tr>\n",
              "    <tr>\n",
              "      <th>2012-10-12</th>\n",
              "      <td>448</td>\n",
              "      <td>3169</td>\n",
              "    </tr>\n",
              "    <tr>\n",
              "      <th>2012-10-13</th>\n",
              "      <td>681</td>\n",
              "      <td>1783</td>\n",
              "    </tr>\n",
              "    <tr>\n",
              "      <th>2012-10-14</th>\n",
              "      <td>65</td>\n",
              "      <td>587</td>\n",
              "    </tr>\n",
              "    <tr>\n",
              "      <th>2012-10-15</th>\n",
              "      <td>560</td>\n",
              "      <td>3292</td>\n",
              "    </tr>\n",
              "    <tr>\n",
              "      <th>2012-10-16</th>\n",
              "      <td>554</td>\n",
              "      <td>3739</td>\n",
              "    </tr>\n",
              "    <tr>\n",
              "      <th>2012-10-17</th>\n",
              "      <td>728</td>\n",
              "      <td>4098</td>\n",
              "    </tr>\n",
              "    <tr>\n",
              "      <th>2012-10-18</th>\n",
              "      <td>1108</td>\n",
              "      <td>4671</td>\n",
              "    </tr>\n",
              "    <tr>\n",
              "      <th>2012-10-19</th>\n",
              "      <td>111</td>\n",
              "      <td>1313</td>\n",
              "    </tr>\n",
              "    <tr>\n",
              "      <th>2012-10-20</th>\n",
              "      <td>797</td>\n",
              "      <td>2011</td>\n",
              "    </tr>\n",
              "    <tr>\n",
              "      <th>2012-10-21</th>\n",
              "      <td>242</td>\n",
              "      <td>1277</td>\n",
              "    </tr>\n",
              "    <tr>\n",
              "      <th>2012-10-22</th>\n",
              "      <td>757</td>\n",
              "      <td>3650</td>\n",
              "    </tr>\n",
              "    <tr>\n",
              "      <th>2012-10-23</th>\n",
              "      <td>795</td>\n",
              "      <td>4177</td>\n",
              "    </tr>\n",
              "    <tr>\n",
              "      <th>2012-10-24</th>\n",
              "      <td>649</td>\n",
              "      <td>3744</td>\n",
              "    </tr>\n",
              "    <tr>\n",
              "      <th>2012-10-25</th>\n",
              "      <td>631</td>\n",
              "      <td>3735</td>\n",
              "    </tr>\n",
              "    <tr>\n",
              "      <th>2012-10-26</th>\n",
              "      <td>1456</td>\n",
              "      <td>4290</td>\n",
              "    </tr>\n",
              "    <tr>\n",
              "      <th>2012-10-27</th>\n",
              "      <td>618</td>\n",
              "      <td>1857</td>\n",
              "    </tr>\n",
              "    <tr>\n",
              "      <th>2012-10-28</th>\n",
              "      <td>387</td>\n",
              "      <td>1310</td>\n",
              "    </tr>\n",
              "    <tr>\n",
              "      <th>2012-10-29</th>\n",
              "      <td>411</td>\n",
              "      <td>2919</td>\n",
              "    </tr>\n",
              "    <tr>\n",
              "      <th>2012-10-30</th>\n",
              "      <td>338</td>\n",
              "      <td>2887</td>\n",
              "    </tr>\n",
              "    <tr>\n",
              "      <th>2012-10-31</th>\n",
              "      <td>245</td>\n",
              "      <td>2634</td>\n",
              "    </tr>\n",
              "    <tr>\n",
              "      <th>2012-11-01</th>\n",
              "      <td>165</td>\n",
              "      <td>2405</td>\n",
              "    </tr>\n",
              "    <tr>\n",
              "      <th>2012-11-02</th>\n",
              "      <td>97</td>\n",
              "      <td>1582</td>\n",
              "    </tr>\n",
              "    <tr>\n",
              "      <th>2012-11-03</th>\n",
              "      <td>105</td>\n",
              "      <td>844</td>\n",
              "    </tr>\n",
              "    <tr>\n",
              "      <th>2012-11-04</th>\n",
              "      <td>197</td>\n",
              "      <td>966</td>\n",
              "    </tr>\n",
              "    <tr>\n",
              "      <th>2012-11-05</th>\n",
              "      <td>179</td>\n",
              "      <td>2247</td>\n",
              "    </tr>\n",
              "  </tbody>\n",
              "</table>\n",
              "<p>310 rows × 2 columns</p>\n",
              "</div>"
            ],
            "text/plain": [
              "            pierre-dupuy  berri 1\n",
              "Date                             \n",
              "2012-01-01            10       35\n",
              "2012-01-02             6       83\n",
              "2012-01-03             3      135\n",
              "2012-01-04             8      144\n",
              "2012-01-05            13      197\n",
              "2012-01-06             4      146\n",
              "2012-01-07             6       98\n",
              "2012-01-08            11       95\n",
              "2012-01-09            12      244\n",
              "2012-01-10            18      397\n",
              "2012-01-11            12      273\n",
              "2012-01-12             9      157\n",
              "2012-01-13             2       75\n",
              "2012-01-14             0       32\n",
              "2012-01-15             0       54\n",
              "2012-01-16             1      168\n",
              "2012-01-17             0      155\n",
              "2012-01-18             3      139\n",
              "2012-01-19             3      191\n",
              "2012-01-20             1      161\n",
              "2012-01-21             1       53\n",
              "2012-01-22             5       71\n",
              "2012-01-23             6      210\n",
              "2012-01-24             4      299\n",
              "2012-01-25             4      334\n",
              "2012-01-26             0      306\n",
              "2012-01-27             0       91\n",
              "2012-01-28             9       80\n",
              "2012-01-29             7       87\n",
              "2012-01-30             2      219\n",
              "...                  ...      ...\n",
              "2012-10-07           695     1580\n",
              "2012-10-08          1115     1854\n",
              "2012-10-09           927     4787\n",
              "2012-10-10           560     3115\n",
              "2012-10-11           558     3746\n",
              "2012-10-12           448     3169\n",
              "2012-10-13           681     1783\n",
              "2012-10-14            65      587\n",
              "2012-10-15           560     3292\n",
              "2012-10-16           554     3739\n",
              "2012-10-17           728     4098\n",
              "2012-10-18          1108     4671\n",
              "2012-10-19           111     1313\n",
              "2012-10-20           797     2011\n",
              "2012-10-21           242     1277\n",
              "2012-10-22           757     3650\n",
              "2012-10-23           795     4177\n",
              "2012-10-24           649     3744\n",
              "2012-10-25           631     3735\n",
              "2012-10-26          1456     4290\n",
              "2012-10-27           618     1857\n",
              "2012-10-28           387     1310\n",
              "2012-10-29           411     2919\n",
              "2012-10-30           338     2887\n",
              "2012-10-31           245     2634\n",
              "2012-11-01           165     2405\n",
              "2012-11-02            97     1582\n",
              "2012-11-03           105      844\n",
              "2012-11-04           197      966\n",
              "2012-11-05           179     2247\n",
              "\n",
              "[310 rows x 2 columns]"
            ]
          },
          "metadata": {
            "tags": []
          },
          "execution_count": 103
        }
      ]
    },
    {
      "cell_type": "code",
      "metadata": {
        "id": "EZ3C3wKbLHoZ",
        "colab_type": "code",
        "colab": {
          "base_uri": "https://localhost:8080/",
          "height": 165
        },
        "outputId": "4f61909d-263f-43d2-e17c-0bc9e80de97c"
      },
      "source": [
        "bike_path.index"
      ],
      "execution_count": 104,
      "outputs": [
        {
          "output_type": "execute_result",
          "data": {
            "text/plain": [
              "DatetimeIndex(['2012-01-01', '2012-01-02', '2012-01-03', '2012-01-04',\n",
              "               '2012-01-05', '2012-01-06', '2012-01-07', '2012-01-08',\n",
              "               '2012-01-09', '2012-01-10',\n",
              "               ...\n",
              "               '2012-10-27', '2012-10-28', '2012-10-29', '2012-10-30',\n",
              "               '2012-10-31', '2012-11-01', '2012-11-02', '2012-11-03',\n",
              "               '2012-11-04', '2012-11-05'],\n",
              "              dtype='datetime64[ns]', name='Date', length=310, freq=None)"
            ]
          },
          "metadata": {
            "tags": []
          },
          "execution_count": 104
        }
      ]
    },
    {
      "cell_type": "code",
      "metadata": {
        "id": "39C3qCkKMMmp",
        "colab_type": "code",
        "colab": {
          "base_uri": "https://localhost:8080/",
          "height": 91
        },
        "outputId": "681887e4-3ea2-4358-b2f6-79a87f610afd"
      },
      "source": [
        "bike_path.index.day"
      ],
      "execution_count": 105,
      "outputs": [
        {
          "output_type": "execute_result",
          "data": {
            "text/plain": [
              "Int64Index([ 1,  2,  3,  4,  5,  6,  7,  8,  9, 10,\n",
              "            ...\n",
              "            27, 28, 29, 30, 31,  1,  2,  3,  4,  5],\n",
              "           dtype='int64', name='Date', length=310)"
            ]
          },
          "metadata": {
            "tags": []
          },
          "execution_count": 105
        }
      ]
    },
    {
      "cell_type": "code",
      "metadata": {
        "id": "lk6SEu55MQlR",
        "colab_type": "code",
        "colab": {
          "base_uri": "https://localhost:8080/",
          "height": 91
        },
        "outputId": "3767e2d1-ec6f-4d55-852c-64e9efa6b9a6"
      },
      "source": [
        "bike_path.index.weekday"
      ],
      "execution_count": 106,
      "outputs": [
        {
          "output_type": "execute_result",
          "data": {
            "text/plain": [
              "Int64Index([6, 0, 1, 2, 3, 4, 5, 6, 0, 1,\n",
              "            ...\n",
              "            5, 6, 0, 1, 2, 3, 4, 5, 6, 0],\n",
              "           dtype='int64', name='Date', length=310)"
            ]
          },
          "metadata": {
            "tags": []
          },
          "execution_count": 106
        }
      ]
    },
    {
      "cell_type": "code",
      "metadata": {
        "id": "NfFXTGkMMVi7",
        "colab_type": "code",
        "colab": {
          "base_uri": "https://localhost:8080/",
          "height": 460
        },
        "outputId": "91c43329-1941-4b21-e758-d696daf6fe3f"
      },
      "source": [
        "bike_path.loc[:, 'weekday'] = bike_path.index.weekday\n",
        "bike_path.head()"
      ],
      "execution_count": 107,
      "outputs": [
        {
          "output_type": "stream",
          "text": [
            "/usr/local/lib/python3.6/dist-packages/pandas/core/indexing.py:362: SettingWithCopyWarning: \n",
            "A value is trying to be set on a copy of a slice from a DataFrame.\n",
            "Try using .loc[row_indexer,col_indexer] = value instead\n",
            "\n",
            "See the caveats in the documentation: http://pandas.pydata.org/pandas-docs/stable/indexing.html#indexing-view-versus-copy\n",
            "  self.obj[key] = _infer_fill_value(value)\n",
            "/usr/local/lib/python3.6/dist-packages/pandas/core/indexing.py:543: SettingWithCopyWarning: \n",
            "A value is trying to be set on a copy of a slice from a DataFrame.\n",
            "Try using .loc[row_indexer,col_indexer] = value instead\n",
            "\n",
            "See the caveats in the documentation: http://pandas.pydata.org/pandas-docs/stable/indexing.html#indexing-view-versus-copy\n",
            "  self.obj[item] = s\n"
          ],
          "name": "stderr"
        },
        {
          "output_type": "execute_result",
          "data": {
            "text/html": [
              "<div>\n",
              "<style scoped>\n",
              "    .dataframe tbody tr th:only-of-type {\n",
              "        vertical-align: middle;\n",
              "    }\n",
              "\n",
              "    .dataframe tbody tr th {\n",
              "        vertical-align: top;\n",
              "    }\n",
              "\n",
              "    .dataframe thead th {\n",
              "        text-align: right;\n",
              "    }\n",
              "</style>\n",
              "<table border=\"1\" class=\"dataframe\">\n",
              "  <thead>\n",
              "    <tr style=\"text-align: right;\">\n",
              "      <th></th>\n",
              "      <th>pierre-dupuy</th>\n",
              "      <th>berri 1</th>\n",
              "      <th>weekday</th>\n",
              "    </tr>\n",
              "    <tr>\n",
              "      <th>Date</th>\n",
              "      <th></th>\n",
              "      <th></th>\n",
              "      <th></th>\n",
              "    </tr>\n",
              "  </thead>\n",
              "  <tbody>\n",
              "    <tr>\n",
              "      <th>2012-01-01</th>\n",
              "      <td>10</td>\n",
              "      <td>35</td>\n",
              "      <td>6</td>\n",
              "    </tr>\n",
              "    <tr>\n",
              "      <th>2012-01-02</th>\n",
              "      <td>6</td>\n",
              "      <td>83</td>\n",
              "      <td>0</td>\n",
              "    </tr>\n",
              "    <tr>\n",
              "      <th>2012-01-03</th>\n",
              "      <td>3</td>\n",
              "      <td>135</td>\n",
              "      <td>1</td>\n",
              "    </tr>\n",
              "    <tr>\n",
              "      <th>2012-01-04</th>\n",
              "      <td>8</td>\n",
              "      <td>144</td>\n",
              "      <td>2</td>\n",
              "    </tr>\n",
              "    <tr>\n",
              "      <th>2012-01-05</th>\n",
              "      <td>13</td>\n",
              "      <td>197</td>\n",
              "      <td>3</td>\n",
              "    </tr>\n",
              "  </tbody>\n",
              "</table>\n",
              "</div>"
            ],
            "text/plain": [
              "            pierre-dupuy  berri 1  weekday\n",
              "Date                                      \n",
              "2012-01-01            10       35        6\n",
              "2012-01-02             6       83        0\n",
              "2012-01-03             3      135        1\n",
              "2012-01-04             8      144        2\n",
              "2012-01-05            13      197        3"
            ]
          },
          "metadata": {
            "tags": []
          },
          "execution_count": 107
        }
      ]
    },
    {
      "cell_type": "code",
      "metadata": {
        "id": "3-tMnlCiMjno",
        "colab_type": "code",
        "colab": {
          "base_uri": "https://localhost:8080/",
          "height": 300
        },
        "outputId": "f21d1d0b-801d-4560-a79f-43baebfa3e60"
      },
      "source": [
        "weekday_counts = bike_path.groupby('weekday').aggregate(sum)\n",
        "weekday_counts"
      ],
      "execution_count": 108,
      "outputs": [
        {
          "output_type": "execute_result",
          "data": {
            "text/html": [
              "<div>\n",
              "<style scoped>\n",
              "    .dataframe tbody tr th:only-of-type {\n",
              "        vertical-align: middle;\n",
              "    }\n",
              "\n",
              "    .dataframe tbody tr th {\n",
              "        vertical-align: top;\n",
              "    }\n",
              "\n",
              "    .dataframe thead th {\n",
              "        text-align: right;\n",
              "    }\n",
              "</style>\n",
              "<table border=\"1\" class=\"dataframe\">\n",
              "  <thead>\n",
              "    <tr style=\"text-align: right;\">\n",
              "      <th></th>\n",
              "      <th>pierre-dupuy</th>\n",
              "      <th>berri 1</th>\n",
              "    </tr>\n",
              "    <tr>\n",
              "      <th>weekday</th>\n",
              "      <th></th>\n",
              "      <th></th>\n",
              "    </tr>\n",
              "  </thead>\n",
              "  <tbody>\n",
              "    <tr>\n",
              "      <th>0</th>\n",
              "      <td>46204</td>\n",
              "      <td>134298</td>\n",
              "    </tr>\n",
              "    <tr>\n",
              "      <th>1</th>\n",
              "      <td>35167</td>\n",
              "      <td>135305</td>\n",
              "    </tr>\n",
              "    <tr>\n",
              "      <th>2</th>\n",
              "      <td>43263</td>\n",
              "      <td>152972</td>\n",
              "    </tr>\n",
              "    <tr>\n",
              "      <th>3</th>\n",
              "      <td>45385</td>\n",
              "      <td>160131</td>\n",
              "    </tr>\n",
              "    <tr>\n",
              "      <th>4</th>\n",
              "      <td>42470</td>\n",
              "      <td>141771</td>\n",
              "    </tr>\n",
              "    <tr>\n",
              "      <th>5</th>\n",
              "      <td>52861</td>\n",
              "      <td>101578</td>\n",
              "    </tr>\n",
              "    <tr>\n",
              "      <th>6</th>\n",
              "      <td>61485</td>\n",
              "      <td>99310</td>\n",
              "    </tr>\n",
              "  </tbody>\n",
              "</table>\n",
              "</div>"
            ],
            "text/plain": [
              "         pierre-dupuy  berri 1\n",
              "weekday                       \n",
              "0               46204   134298\n",
              "1               35167   135305\n",
              "2               43263   152972\n",
              "3               45385   160131\n",
              "4               42470   141771\n",
              "5               52861   101578\n",
              "6               61485    99310"
            ]
          },
          "metadata": {
            "tags": []
          },
          "execution_count": 108
        }
      ]
    },
    {
      "cell_type": "code",
      "metadata": {
        "id": "gfP42-7YM1Da",
        "colab_type": "code",
        "colab": {}
      },
      "source": [
        "weekday_counts.index = ['Monday', 'Tuesday', 'Wednesday', 'Thursday', 'Friday', 'Saturday', 'Sunday']"
      ],
      "execution_count": 0,
      "outputs": []
    },
    {
      "cell_type": "code",
      "metadata": {
        "id": "XYLsLdBMM9yR",
        "colab_type": "code",
        "colab": {
          "base_uri": "https://localhost:8080/",
          "height": 269
        },
        "outputId": "d07bc453-9d14-4af7-d39b-c0e06f270586"
      },
      "source": [
        "weekday_counts"
      ],
      "execution_count": 110,
      "outputs": [
        {
          "output_type": "execute_result",
          "data": {
            "text/html": [
              "<div>\n",
              "<style scoped>\n",
              "    .dataframe tbody tr th:only-of-type {\n",
              "        vertical-align: middle;\n",
              "    }\n",
              "\n",
              "    .dataframe tbody tr th {\n",
              "        vertical-align: top;\n",
              "    }\n",
              "\n",
              "    .dataframe thead th {\n",
              "        text-align: right;\n",
              "    }\n",
              "</style>\n",
              "<table border=\"1\" class=\"dataframe\">\n",
              "  <thead>\n",
              "    <tr style=\"text-align: right;\">\n",
              "      <th></th>\n",
              "      <th>pierre-dupuy</th>\n",
              "      <th>berri 1</th>\n",
              "    </tr>\n",
              "  </thead>\n",
              "  <tbody>\n",
              "    <tr>\n",
              "      <th>Monday</th>\n",
              "      <td>46204</td>\n",
              "      <td>134298</td>\n",
              "    </tr>\n",
              "    <tr>\n",
              "      <th>Tuesday</th>\n",
              "      <td>35167</td>\n",
              "      <td>135305</td>\n",
              "    </tr>\n",
              "    <tr>\n",
              "      <th>Wednesday</th>\n",
              "      <td>43263</td>\n",
              "      <td>152972</td>\n",
              "    </tr>\n",
              "    <tr>\n",
              "      <th>Thursday</th>\n",
              "      <td>45385</td>\n",
              "      <td>160131</td>\n",
              "    </tr>\n",
              "    <tr>\n",
              "      <th>Friday</th>\n",
              "      <td>42470</td>\n",
              "      <td>141771</td>\n",
              "    </tr>\n",
              "    <tr>\n",
              "      <th>Saturday</th>\n",
              "      <td>52861</td>\n",
              "      <td>101578</td>\n",
              "    </tr>\n",
              "    <tr>\n",
              "      <th>Sunday</th>\n",
              "      <td>61485</td>\n",
              "      <td>99310</td>\n",
              "    </tr>\n",
              "  </tbody>\n",
              "</table>\n",
              "</div>"
            ],
            "text/plain": [
              "           pierre-dupuy  berri 1\n",
              "Monday            46204   134298\n",
              "Tuesday           35167   135305\n",
              "Wednesday         43263   152972\n",
              "Thursday          45385   160131\n",
              "Friday            42470   141771\n",
              "Saturday          52861   101578\n",
              "Sunday            61485    99310"
            ]
          },
          "metadata": {
            "tags": []
          },
          "execution_count": 110
        }
      ]
    },
    {
      "cell_type": "code",
      "metadata": {
        "id": "f8qTITkSOD8o",
        "colab_type": "code",
        "colab": {
          "base_uri": "https://localhost:8080/",
          "height": 336
        },
        "outputId": "d6924606-626f-45fc-b06c-035109056844"
      },
      "source": [
        "weekday_counts.plot(kind='bar')"
      ],
      "execution_count": 111,
      "outputs": [
        {
          "output_type": "execute_result",
          "data": {
            "text/plain": [
              "<matplotlib.axes._subplots.AxesSubplot at 0x7f7bfa4930f0>"
            ]
          },
          "metadata": {
            "tags": []
          },
          "execution_count": 111
        },
        {
          "output_type": "display_data",
          "data": {
            "image/png": "[encoded data removed]",
            "text/plain": [
              "<Figure size 432x288 with 1 Axes>"
            ]
          },
          "metadata": {
            "tags": []
          }
        }
      ]
    },
    {
      "cell_type": "code",
      "metadata": {
        "id": "zkuByIMYNNDi",
        "colab_type": "code",
        "colab": {
          "base_uri": "https://localhost:8080/",
          "height": 165
        },
        "outputId": "1425919e-55a7-4b68-eaff-e2e50fdaf6d7"
      },
      "source": [
        ""
      ],
      "execution_count": 114,
      "outputs": [
        {
          "output_type": "execute_result",
          "data": {
            "text/plain": [
              "Monday       0.751468\n",
              "Tuesday      0.571961\n",
              "Wednesday    0.703635\n",
              "Thursday     0.738148\n",
              "Friday       0.690738\n",
              "Saturday     0.859738\n",
              "Sunday       1.000000\n",
              "Name: pierre-dupuy, dtype: float64"
            ]
          },
          "metadata": {
            "tags": []
          },
          "execution_count": 114
        }
      ]
    },
    {
      "cell_type": "code",
      "metadata": {
        "id": "xZVwq8Z1OpSy",
        "colab_type": "code",
        "colab": {}
      },
      "source": [
        "weekday_counts['berri 1 norm'] = weekday_counts['berri 1'] / weekday_counts['berri 1'].max()\n",
        "weekday_counts['pierre-dupuy norm'] = weekday_counts['pierre-dupuy'] / weekday_counts['pierre-dupuy'].max()"
      ],
      "execution_count": 0,
      "outputs": []
    },
    {
      "cell_type": "code",
      "metadata": {
        "id": "jQL8ZaEqOrLr",
        "colab_type": "code",
        "colab": {
          "base_uri": "https://localhost:8080/",
          "height": 336
        },
        "outputId": "7e20b342-eb60-4ff6-cceb-a2ae08fe51e0"
      },
      "source": [
        "weekday_counts[['berri 1 norm', 'pierre-dupuy norm']].plot(kind='bar')"
      ],
      "execution_count": 119,
      "outputs": [
        {
          "output_type": "execute_result",
          "data": {
            "text/plain": [
              "<matplotlib.axes._subplots.AxesSubplot at 0x7f7bfa4d8c18>"
            ]
          },
          "metadata": {
            "tags": []
          },
          "execution_count": 119
        },
        {
          "output_type": "display_data",
          "data": {
            "image/png": "[encoded data removed]",
            "text/plain": [
              "<Figure size 432x288 with 1 Axes>"
            ]
          },
          "metadata": {
            "tags": []
          }
        }
      ]
    },
    {
      "cell_type": "code",
      "metadata": {
        "id": "-jPKpe9ZO3Us",
        "colab_type": "code",
        "colab": {
          "base_uri": "https://localhost:8080/",
          "height": 274
        },
        "outputId": "cd26a85d-21c5-40eb-be3d-35300563b5e1"
      },
      "source": [
        "weekday_counts[['berri 1 norm', 'pierre-dupuy norm']].plot()"
      ],
      "execution_count": 120,
      "outputs": [
        {
          "output_type": "execute_result",
          "data": {
            "text/plain": [
              "<matplotlib.axes._subplots.AxesSubplot at 0x7f7bf896ea20>"
            ]
          },
          "metadata": {
            "tags": []
          },
          "execution_count": 120
        },
        {
          "output_type": "display_data",
          "data": {
            "image/png": "[encoded data removed]",
            "text/plain": [
              "<Figure size 432x288 with 1 Axes>"
            ]
          },
          "metadata": {
            "tags": []
          }
        }
      ]
    },
    {
      "cell_type": "markdown",
      "metadata": {
        "id": "NzjKHFmlPXIF",
        "colab_type": "text"
      },
      "source": [
        "# Vancouver Crime Dataset"
      ]
    },
    {
      "cell_type": "code",
      "metadata": {
        "id": "5aiGeerMPcIL",
        "colab_type": "code",
        "colab": {
          "base_uri": "https://localhost:8080/",
          "height": 295
        },
        "outputId": "7150eeb5-18d5-439f-eda9-cf9569f39b79"
      },
      "source": [
        "!wget ftp://webftp.vancouver.ca/opendata/csv/crime_csv_all_years.zip"
      ],
      "execution_count": 121,
      "outputs": [
        {
          "output_type": "stream",
          "text": [
            "--2019-09-10 03:38:34--  ftp://webftp.vancouver.ca/opendata/csv/crime_csv_all_years.zip\n",
            "           => ‘crime_csv_all_years.zip’\n",
            "Resolving webftp.vancouver.ca (webftp.vancouver.ca)... 199.175.219.218\n",
            "Connecting to webftp.vancouver.ca (webftp.vancouver.ca)|199.175.219.218|:21... connected.\n",
            "Logging in as anonymous ... Logged in!\n",
            "==> SYST ... done.    ==> PWD ... done.\n",
            "==> TYPE I ... done.  ==> CWD (1) /opendata/csv ... done.\n",
            "==> SIZE crime_csv_all_years.zip ... done.\n",
            "\n",
            "==> PASV ... done.    ==> RETR crime_csv_all_years.zip ... done.\n",
            "\n",
            "crime_csv_all_years     [    <=>             ]   8.68M  14.0MB/s    in 0.6s    \n",
            "\n",
            "2019-09-10 03:38:35 (14.0 MB/s) - ‘crime_csv_all_years.zip’ saved [9107123]\n",
            "\n"
          ],
          "name": "stdout"
        }
      ]
    },
    {
      "cell_type": "code",
      "metadata": {
        "id": "-vYEOAT7QGav",
        "colab_type": "code",
        "colab": {}
      },
      "source": [
        "import zipfile\n",
        "with zipfile.ZipFile('crime_csv_all_years.zip', 'r') as zip_ref:\n",
        "    zip_ref.extractall('.')"
      ],
      "execution_count": 0,
      "outputs": []
    },
    {
      "cell_type": "code",
      "metadata": {
        "id": "Cl654MBOQaE6",
        "colab_type": "code",
        "colab": {
          "base_uri": "https://localhost:8080/",
          "height": 363
        },
        "outputId": "a682b13a-0dd4-4048-8500-5f9b25f75e46"
      },
      "source": [
        "df = pd.read_csv('crime_csv_all_years.csv')\n",
        "df.head(10)"
      ],
      "execution_count": 123,
      "outputs": [
        {
          "output_type": "execute_result",
          "data": {
            "text/html": [
              "<div>\n",
              "<style scoped>\n",
              "    .dataframe tbody tr th:only-of-type {\n",
              "        vertical-align: middle;\n",
              "    }\n",
              "\n",
              "    .dataframe tbody tr th {\n",
              "        vertical-align: top;\n",
              "    }\n",
              "\n",
              "    .dataframe thead th {\n",
              "        text-align: right;\n",
              "    }\n",
              "</style>\n",
              "<table border=\"1\" class=\"dataframe\">\n",
              "  <thead>\n",
              "    <tr style=\"text-align: right;\">\n",
              "      <th></th>\n",
              "      <th>TYPE</th>\n",
              "      <th>YEAR</th>\n",
              "      <th>MONTH</th>\n",
              "      <th>DAY</th>\n",
              "      <th>HOUR</th>\n",
              "      <th>MINUTE</th>\n",
              "      <th>HUNDRED_BLOCK</th>\n",
              "      <th>NEIGHBOURHOOD</th>\n",
              "      <th>X</th>\n",
              "      <th>Y</th>\n",
              "    </tr>\n",
              "  </thead>\n",
              "  <tbody>\n",
              "    <tr>\n",
              "      <th>0</th>\n",
              "      <td>Break and Enter Residential/Other</td>\n",
              "      <td>2003</td>\n",
              "      <td>12</td>\n",
              "      <td>7</td>\n",
              "      <td>21.0</td>\n",
              "      <td>30.0</td>\n",
              "      <td>36XX E 47TH AVE</td>\n",
              "      <td>Killarney</td>\n",
              "      <td>498148.47</td>\n",
              "      <td>5452617.84</td>\n",
              "    </tr>\n",
              "    <tr>\n",
              "      <th>1</th>\n",
              "      <td>Break and Enter Residential/Other</td>\n",
              "      <td>2003</td>\n",
              "      <td>2</td>\n",
              "      <td>9</td>\n",
              "      <td>18.0</td>\n",
              "      <td>0.0</td>\n",
              "      <td>16XX GRANT ST</td>\n",
              "      <td>Grandview-Woodland</td>\n",
              "      <td>494890.46</td>\n",
              "      <td>5457626.75</td>\n",
              "    </tr>\n",
              "    <tr>\n",
              "      <th>2</th>\n",
              "      <td>Theft from Vehicle</td>\n",
              "      <td>2003</td>\n",
              "      <td>1</td>\n",
              "      <td>8</td>\n",
              "      <td>11.0</td>\n",
              "      <td>45.0</td>\n",
              "      <td>19XX W 11TH AVE</td>\n",
              "      <td>Kitsilano</td>\n",
              "      <td>489121.18</td>\n",
              "      <td>5456575.35</td>\n",
              "    </tr>\n",
              "    <tr>\n",
              "      <th>3</th>\n",
              "      <td>Theft from Vehicle</td>\n",
              "      <td>2003</td>\n",
              "      <td>3</td>\n",
              "      <td>20</td>\n",
              "      <td>18.0</td>\n",
              "      <td>0.0</td>\n",
              "      <td>19XX VINE ST</td>\n",
              "      <td>Kitsilano</td>\n",
              "      <td>488546.95</td>\n",
              "      <td>5457304.88</td>\n",
              "    </tr>\n",
              "    <tr>\n",
              "      <th>4</th>\n",
              "      <td>Theft from Vehicle</td>\n",
              "      <td>2003</td>\n",
              "      <td>2</td>\n",
              "      <td>19</td>\n",
              "      <td>17.0</td>\n",
              "      <td>30.0</td>\n",
              "      <td>19XX VINE ST</td>\n",
              "      <td>Kitsilano</td>\n",
              "      <td>488546.95</td>\n",
              "      <td>5457304.88</td>\n",
              "    </tr>\n",
              "    <tr>\n",
              "      <th>5</th>\n",
              "      <td>Break and Enter Residential/Other</td>\n",
              "      <td>2003</td>\n",
              "      <td>2</td>\n",
              "      <td>21</td>\n",
              "      <td>14.0</td>\n",
              "      <td>0.0</td>\n",
              "      <td>16XX GRANVILLE ST</td>\n",
              "      <td>Central Business District</td>\n",
              "      <td>490419.48</td>\n",
              "      <td>5457877.04</td>\n",
              "    </tr>\n",
              "    <tr>\n",
              "      <th>6</th>\n",
              "      <td>Offence Against a Person</td>\n",
              "      <td>2003</td>\n",
              "      <td>3</td>\n",
              "      <td>15</td>\n",
              "      <td>NaN</td>\n",
              "      <td>NaN</td>\n",
              "      <td>OFFSET TO PROTECT PRIVACY</td>\n",
              "      <td>NaN</td>\n",
              "      <td>0.00</td>\n",
              "      <td>0.00</td>\n",
              "    </tr>\n",
              "    <tr>\n",
              "      <th>7</th>\n",
              "      <td>Theft from Vehicle</td>\n",
              "      <td>2003</td>\n",
              "      <td>1</td>\n",
              "      <td>30</td>\n",
              "      <td>16.0</td>\n",
              "      <td>0.0</td>\n",
              "      <td>19XX VICTORIA DR</td>\n",
              "      <td>Grandview-Woodland</td>\n",
              "      <td>495217.31</td>\n",
              "      <td>5457218.96</td>\n",
              "    </tr>\n",
              "    <tr>\n",
              "      <th>8</th>\n",
              "      <td>Theft from Vehicle</td>\n",
              "      <td>2003</td>\n",
              "      <td>4</td>\n",
              "      <td>11</td>\n",
              "      <td>1.0</td>\n",
              "      <td>48.0</td>\n",
              "      <td>19XX VERNON DR</td>\n",
              "      <td>Strathcona</td>\n",
              "      <td>494267.38</td>\n",
              "      <td>5457234.70</td>\n",
              "    </tr>\n",
              "    <tr>\n",
              "      <th>9</th>\n",
              "      <td>Vehicle Collision or Pedestrian Struck (with I...</td>\n",
              "      <td>2003</td>\n",
              "      <td>8</td>\n",
              "      <td>23</td>\n",
              "      <td>17.0</td>\n",
              "      <td>40.0</td>\n",
              "      <td>VICTORIA DR / E 30TH AVE</td>\n",
              "      <td>Kensington-Cedar Cottage</td>\n",
              "      <td>495252.00</td>\n",
              "      <td>5454589.00</td>\n",
              "    </tr>\n",
              "  </tbody>\n",
              "</table>\n",
              "</div>"
            ],
            "text/plain": [
              "                                                TYPE     ...               Y\n",
              "0                  Break and Enter Residential/Other     ...      5452617.84\n",
              "1                  Break and Enter Residential/Other     ...      5457626.75\n",
              "2                                 Theft from Vehicle     ...      5456575.35\n",
              "3                                 Theft from Vehicle     ...      5457304.88\n",
              "4                                 Theft from Vehicle     ...      5457304.88\n",
              "5                  Break and Enter Residential/Other     ...      5457877.04\n",
              "6                           Offence Against a Person     ...            0.00\n",
              "7                                 Theft from Vehicle     ...      5457218.96\n",
              "8                                 Theft from Vehicle     ...      5457234.70\n",
              "9  Vehicle Collision or Pedestrian Struck (with I...     ...      5454589.00\n",
              "\n",
              "[10 rows x 10 columns]"
            ]
          },
          "metadata": {
            "tags": []
          },
          "execution_count": 123
        }
      ]
    },
    {
      "cell_type": "code",
      "metadata": {
        "id": "JQSR40KRQgO7",
        "colab_type": "code",
        "colab": {
          "base_uri": "https://localhost:8080/",
          "height": 36
        },
        "outputId": "6710d5e3-7e53-4f81-fd69-032313ab2ffc"
      },
      "source": [
        "df.shape"
      ],
      "execution_count": 124,
      "outputs": [
        {
          "output_type": "execute_result",
          "data": {
            "text/plain": [
              "(613900, 10)"
            ]
          },
          "metadata": {
            "tags": []
          },
          "execution_count": 124
        }
      ]
    },
    {
      "cell_type": "code",
      "metadata": {
        "id": "e3Mt6pVhQiiS",
        "colab_type": "code",
        "colab": {
          "base_uri": "https://localhost:8080/",
          "height": 239
        },
        "outputId": "77838129-8a56-4fb5-9195-a9c11f6a9102"
      },
      "source": [
        "df['TYPE'].value_counts()"
      ],
      "execution_count": 125,
      "outputs": [
        {
          "output_type": "execute_result",
          "data": {
            "text/plain": [
              "Theft from Vehicle                                        205502\n",
              "Mischief                                                   82668\n",
              "Break and Enter Residential/Other                          65737\n",
              "Other Theft                                                63404\n",
              "Offence Against a Person                                   61238\n",
              "Theft of Vehicle                                           41170\n",
              "Break and Enter Commercial                                 38328\n",
              "Theft of Bicycle                                           30397\n",
              "Vehicle Collision or Pedestrian Struck (with Injury)       24921\n",
              "Vehicle Collision or Pedestrian Struck (with Fatality)       286\n",
              "Homicide                                                     249\n",
              "Name: TYPE, dtype: int64"
            ]
          },
          "metadata": {
            "tags": []
          },
          "execution_count": 125
        }
      ]
    },
    {
      "cell_type": "code",
      "metadata": {
        "id": "xGK3wyhzRJNa",
        "colab_type": "code",
        "colab": {
          "base_uri": "https://localhost:8080/",
          "height": 239
        },
        "outputId": "6f5b4ddc-b7ce-4cc0-91f5-e55aecc49639"
      },
      "source": [
        "df['TYPE'].value_counts(normalize=True)"
      ],
      "execution_count": 126,
      "outputs": [
        {
          "output_type": "execute_result",
          "data": {
            "text/plain": [
              "Theft from Vehicle                                        0.334748\n",
              "Mischief                                                  0.134660\n",
              "Break and Enter Residential/Other                         0.107081\n",
              "Other Theft                                               0.103281\n",
              "Offence Against a Person                                  0.099752\n",
              "Theft of Vehicle                                          0.067063\n",
              "Break and Enter Commercial                                0.062434\n",
              "Theft of Bicycle                                          0.049515\n",
              "Vehicle Collision or Pedestrian Struck (with Injury)      0.040595\n",
              "Vehicle Collision or Pedestrian Struck (with Fatality)    0.000466\n",
              "Homicide                                                  0.000406\n",
              "Name: TYPE, dtype: float64"
            ]
          },
          "metadata": {
            "tags": []
          },
          "execution_count": 126
        }
      ]
    },
    {
      "cell_type": "code",
      "metadata": {
        "id": "mnt7sn10RWqC",
        "colab_type": "code",
        "colab": {
          "base_uri": "https://localhost:8080/",
          "height": 320
        },
        "outputId": "adbefe0f-b278-42a0-bdd0-29bc7a5739d0"
      },
      "source": [
        "df[df['TYPE'] == 'Theft from Vehicle'].groupby('YEAR')['TYPE'].agg('count').plot(kind='bar')"
      ],
      "execution_count": 133,
      "outputs": [
        {
          "output_type": "execute_result",
          "data": {
            "text/plain": [
              "<matplotlib.axes._subplots.AxesSubplot at 0x7f7bf817edd8>"
            ]
          },
          "metadata": {
            "tags": []
          },
          "execution_count": 133
        },
        {
          "output_type": "display_data",
          "data": {
            "image/png": "[encoded data removed]",
            "text/plain": [
              "<Figure size 432x288 with 1 Axes>"
            ]
          },
          "metadata": {
            "tags": []
          }
        }
      ]
    },
    {
      "cell_type": "code",
      "metadata": {
        "id": "qGbeMwIKRqCi",
        "colab_type": "code",
        "colab": {
          "base_uri": "https://localhost:8080/",
          "height": 320
        },
        "outputId": "fc0810de-45c2-42cc-b530-3862f15573ec"
      },
      "source": [
        "df[df['TYPE'] == 'Theft of Bicycle'].groupby('YEAR')['TYPE'].agg('count').plot(kind='bar')"
      ],
      "execution_count": 134,
      "outputs": [
        {
          "output_type": "execute_result",
          "data": {
            "text/plain": [
              "<matplotlib.axes._subplots.AxesSubplot at 0x7f7bf81aeda0>"
            ]
          },
          "metadata": {
            "tags": []
          },
          "execution_count": 134
        },
        {
          "output_type": "display_data",
          "data": {
            "image/png": "[encoded data removed]",
            "text/plain": [
              "<Figure size 432x288 with 1 Axes>"
            ]
          },
          "metadata": {
            "tags": []
          }
        }
      ]
    },
    {
      "cell_type": "code",
      "metadata": {
        "id": "5FEl8kDkTiQM",
        "colab_type": "code",
        "colab": {}
      },
      "source": [
        "def plot_crime_type_vs_year(col_name):\n",
        "  df[df['TYPE'] == col_name].groupby('YEAR')['TYPE'].agg('count').plot(kind='bar')"
      ],
      "execution_count": 0,
      "outputs": []
    },
    {
      "cell_type": "code",
      "metadata": {
        "id": "4wHk3EkwT6zD",
        "colab_type": "code",
        "colab": {
          "base_uri": "https://localhost:8080/",
          "height": 301
        },
        "outputId": "e62a6876-2293-461d-f045-e58549283cc2"
      },
      "source": [
        "plot_crime_type_vs_year('Break and Enter Residential/Other')"
      ],
      "execution_count": 136,
      "outputs": [
        {
          "output_type": "display_data",
          "data": {
            "image/png": "[encoded data removed]",
            "text/plain": [
              "<Figure size 432x288 with 1 Axes>"
            ]
          },
          "metadata": {
            "tags": []
          }
        }
      ]
    },
    {
      "cell_type": "markdown",
      "metadata": {
        "id": "aZTIJ--NUVsy",
        "colab_type": "text"
      },
      "source": [
        "# Plotting points on map (advanced)"
      ]
    },
    {
      "cell_type": "code",
      "metadata": {
        "id": "Hs0l6kzhT-fl",
        "colab_type": "code",
        "colab": {}
      },
      "source": [
        "import folium"
      ],
      "execution_count": 0,
      "outputs": []
    },
    {
      "cell_type": "code",
      "metadata": {
        "id": "z2Cp--ajUS1z",
        "colab_type": "code",
        "colab": {
          "base_uri": "https://localhost:8080/",
          "height": 184
        },
        "outputId": "0e1b950c-018b-4efe-81d2-c46fbd4ce9da"
      },
      "source": [
        "!pip install utm"
      ],
      "execution_count": 138,
      "outputs": [
        {
          "output_type": "stream",
          "text": [
            "Collecting utm\n",
            "  Downloading https://files.pythonhosted.org/packages/b6/77/180f06153f2c1a8caf8409ff6365abc9423ec4ebc3991dfe4a3228bc09d4/utm-0.5.0.tar.gz\n",
            "Building wheels for collected packages: utm\n",
            "  Building wheel for utm (setup.py) ... \u001b[?25l\u001b[?25hdone\n",
            "  Created wheel for utm: filename=utm-0.5.0-cp36-none-any.whl size=5903 sha256=9b4adbbc0c3ea886a2778234ef444360f9249e200c5c27b3b65bf707d55855e0\n",
            "  Stored in directory: /root/.cache/pip/wheels/22/85/c2/314ffed39b8e02ca623e9b7d2ad7fcf3f8544a0e77c096be76\n",
            "Successfully built utm\n",
            "Installing collected packages: utm\n",
            "Successfully installed utm-0.5.0\n"
          ],
          "name": "stdout"
        }
      ]
    },
    {
      "cell_type": "code",
      "metadata": {
        "id": "0SAse4teUcmC",
        "colab_type": "code",
        "colab": {}
      },
      "source": [
        "import utm"
      ],
      "execution_count": 0,
      "outputs": []
    },
    {
      "cell_type": "code",
      "metadata": {
        "id": "v7fN827qUfFr",
        "colab_type": "code",
        "colab": {}
      },
      "source": [
        "def utm2wgs84(row):\n",
        "  try:\n",
        "    return pd.Series(utm.to_latlon(row['X'], row['Y'], 10, 'U'))\n",
        "  except:\n",
        "    return pd.Series((None, None))"
      ],
      "execution_count": 0,
      "outputs": []
    },
    {
      "cell_type": "code",
      "metadata": {
        "id": "HCZVT_jxVEFa",
        "colab_type": "code",
        "colab": {}
      },
      "source": [
        "df_bike_theft = df[df['TYPE'] == 'Theft of Bicycle'].copy()"
      ],
      "execution_count": 0,
      "outputs": []
    },
    {
      "cell_type": "code",
      "metadata": {
        "id": "HMedeeHYVO3b",
        "colab_type": "code",
        "colab": {
          "base_uri": "https://localhost:8080/",
          "height": 206
        },
        "outputId": "f395bc5e-0410-46b5-d59c-c8bad0159756"
      },
      "source": [
        "df_bike_theft.sample(5)"
      ],
      "execution_count": 143,
      "outputs": [
        {
          "output_type": "execute_result",
          "data": {
            "text/html": [
              "<div>\n",
              "<style scoped>\n",
              "    .dataframe tbody tr th:only-of-type {\n",
              "        vertical-align: middle;\n",
              "    }\n",
              "\n",
              "    .dataframe tbody tr th {\n",
              "        vertical-align: top;\n",
              "    }\n",
              "\n",
              "    .dataframe thead th {\n",
              "        text-align: right;\n",
              "    }\n",
              "</style>\n",
              "<table border=\"1\" class=\"dataframe\">\n",
              "  <thead>\n",
              "    <tr style=\"text-align: right;\">\n",
              "      <th></th>\n",
              "      <th>TYPE</th>\n",
              "      <th>YEAR</th>\n",
              "      <th>MONTH</th>\n",
              "      <th>DAY</th>\n",
              "      <th>HOUR</th>\n",
              "      <th>MINUTE</th>\n",
              "      <th>HUNDRED_BLOCK</th>\n",
              "      <th>NEIGHBOURHOOD</th>\n",
              "      <th>X</th>\n",
              "      <th>Y</th>\n",
              "    </tr>\n",
              "  </thead>\n",
              "  <tbody>\n",
              "    <tr>\n",
              "      <th>19017</th>\n",
              "      <td>Theft of Bicycle</td>\n",
              "      <td>2003</td>\n",
              "      <td>1</td>\n",
              "      <td>22</td>\n",
              "      <td>19.0</td>\n",
              "      <td>0.0</td>\n",
              "      <td>25XX W 13TH AVE</td>\n",
              "      <td>Kitsilano</td>\n",
              "      <td>488106.18</td>\n",
              "      <td>5456394.03</td>\n",
              "    </tr>\n",
              "    <tr>\n",
              "      <th>526249</th>\n",
              "      <td>Theft of Bicycle</td>\n",
              "      <td>2017</td>\n",
              "      <td>8</td>\n",
              "      <td>18</td>\n",
              "      <td>20.0</td>\n",
              "      <td>0.0</td>\n",
              "      <td>1XX W CORDOVA ST</td>\n",
              "      <td>Central Business District</td>\n",
              "      <td>492202.33</td>\n",
              "      <td>5458917.24</td>\n",
              "    </tr>\n",
              "    <tr>\n",
              "      <th>444095</th>\n",
              "      <td>Theft of Bicycle</td>\n",
              "      <td>2015</td>\n",
              "      <td>11</td>\n",
              "      <td>30</td>\n",
              "      <td>19.0</td>\n",
              "      <td>0.0</td>\n",
              "      <td>12XX W 70TH AVE</td>\n",
              "      <td>Marpole</td>\n",
              "      <td>490217.32</td>\n",
              "      <td>5450641.69</td>\n",
              "    </tr>\n",
              "    <tr>\n",
              "      <th>316986</th>\n",
              "      <td>Theft of Bicycle</td>\n",
              "      <td>2010</td>\n",
              "      <td>2</td>\n",
              "      <td>14</td>\n",
              "      <td>21.0</td>\n",
              "      <td>0.0</td>\n",
              "      <td>7XX PACIFIC BLVD</td>\n",
              "      <td>Central Business District</td>\n",
              "      <td>492005.87</td>\n",
              "      <td>5458173.62</td>\n",
              "    </tr>\n",
              "    <tr>\n",
              "      <th>250232</th>\n",
              "      <td>Theft of Bicycle</td>\n",
              "      <td>2008</td>\n",
              "      <td>9</td>\n",
              "      <td>3</td>\n",
              "      <td>14.0</td>\n",
              "      <td>0.0</td>\n",
              "      <td>3XX BURRARD ST</td>\n",
              "      <td>Central Business District</td>\n",
              "      <td>491550.72</td>\n",
              "      <td>5459435.34</td>\n",
              "    </tr>\n",
              "  </tbody>\n",
              "</table>\n",
              "</div>"
            ],
            "text/plain": [
              "                    TYPE  YEAR     ...              X           Y\n",
              "19017   Theft of Bicycle  2003     ...      488106.18  5456394.03\n",
              "526249  Theft of Bicycle  2017     ...      492202.33  5458917.24\n",
              "444095  Theft of Bicycle  2015     ...      490217.32  5450641.69\n",
              "316986  Theft of Bicycle  2010     ...      492005.87  5458173.62\n",
              "250232  Theft of Bicycle  2008     ...      491550.72  5459435.34\n",
              "\n",
              "[5 rows x 10 columns]"
            ]
          },
          "metadata": {
            "tags": []
          },
          "execution_count": 143
        }
      ]
    },
    {
      "cell_type": "code",
      "metadata": {
        "id": "NWUKwM3LVQGK",
        "colab_type": "code",
        "colab": {}
      },
      "source": [
        "df_bike_theft[['lat', 'lon']] = df_bike_theft.apply(lambda row: utm2wgs84(row), axis=1)"
      ],
      "execution_count": 0,
      "outputs": []
    },
    {
      "cell_type": "code",
      "metadata": {
        "id": "tKUmTP3MVfbi",
        "colab_type": "code",
        "colab": {
          "base_uri": "https://localhost:8080/",
          "height": 206
        },
        "outputId": "a79c0437-2e3d-44d9-9037-3109c24e45d7"
      },
      "source": [
        "df_bike_theft.sample(5)"
      ],
      "execution_count": 146,
      "outputs": [
        {
          "output_type": "execute_result",
          "data": {
            "text/html": [
              "<div>\n",
              "<style scoped>\n",
              "    .dataframe tbody tr th:only-of-type {\n",
              "        vertical-align: middle;\n",
              "    }\n",
              "\n",
              "    .dataframe tbody tr th {\n",
              "        vertical-align: top;\n",
              "    }\n",
              "\n",
              "    .dataframe thead th {\n",
              "        text-align: right;\n",
              "    }\n",
              "</style>\n",
              "<table border=\"1\" class=\"dataframe\">\n",
              "  <thead>\n",
              "    <tr style=\"text-align: right;\">\n",
              "      <th></th>\n",
              "      <th>TYPE</th>\n",
              "      <th>YEAR</th>\n",
              "      <th>MONTH</th>\n",
              "      <th>DAY</th>\n",
              "      <th>HOUR</th>\n",
              "      <th>MINUTE</th>\n",
              "      <th>HUNDRED_BLOCK</th>\n",
              "      <th>NEIGHBOURHOOD</th>\n",
              "      <th>X</th>\n",
              "      <th>Y</th>\n",
              "      <th>lat</th>\n",
              "      <th>lon</th>\n",
              "    </tr>\n",
              "  </thead>\n",
              "  <tbody>\n",
              "    <tr>\n",
              "      <th>482335</th>\n",
              "      <td>Theft of Bicycle</td>\n",
              "      <td>2016</td>\n",
              "      <td>5</td>\n",
              "      <td>11</td>\n",
              "      <td>18.0</td>\n",
              "      <td>45.0</td>\n",
              "      <td>8XX HORNBY ST</td>\n",
              "      <td>Central Business District</td>\n",
              "      <td>491124.72</td>\n",
              "      <td>5458870.19</td>\n",
              "      <td>49.282521</td>\n",
              "      <td>-123.122034</td>\n",
              "    </tr>\n",
              "    <tr>\n",
              "      <th>50030</th>\n",
              "      <td>Theft of Bicycle</td>\n",
              "      <td>2004</td>\n",
              "      <td>11</td>\n",
              "      <td>5</td>\n",
              "      <td>7.0</td>\n",
              "      <td>30.0</td>\n",
              "      <td>HORNBY ST / ROBSON ST</td>\n",
              "      <td>Central Business District</td>\n",
              "      <td>491144.63</td>\n",
              "      <td>5458883.81</td>\n",
              "      <td>49.282643</td>\n",
              "      <td>-123.121761</td>\n",
              "    </tr>\n",
              "    <tr>\n",
              "      <th>392929</th>\n",
              "      <td>Theft of Bicycle</td>\n",
              "      <td>2013</td>\n",
              "      <td>2</td>\n",
              "      <td>15</td>\n",
              "      <td>20.0</td>\n",
              "      <td>30.0</td>\n",
              "      <td>8XX W 12TH AVE</td>\n",
              "      <td>Fairview</td>\n",
              "      <td>491033.35</td>\n",
              "      <td>5456432.31</td>\n",
              "      <td>49.260590</td>\n",
              "      <td>-123.123236</td>\n",
              "    </tr>\n",
              "    <tr>\n",
              "      <th>447091</th>\n",
              "      <td>Theft of Bicycle</td>\n",
              "      <td>2015</td>\n",
              "      <td>8</td>\n",
              "      <td>6</td>\n",
              "      <td>8.0</td>\n",
              "      <td>0.0</td>\n",
              "      <td>2XX E 2ND AVE</td>\n",
              "      <td>Mount Pleasant</td>\n",
              "      <td>492825.83</td>\n",
              "      <td>5457246.39</td>\n",
              "      <td>49.267937</td>\n",
              "      <td>-123.098615</td>\n",
              "    </tr>\n",
              "    <tr>\n",
              "      <th>486001</th>\n",
              "      <td>Theft of Bicycle</td>\n",
              "      <td>2016</td>\n",
              "      <td>11</td>\n",
              "      <td>25</td>\n",
              "      <td>23.0</td>\n",
              "      <td>28.0</td>\n",
              "      <td>2XX E GEORGIA ST</td>\n",
              "      <td>Strathcona</td>\n",
              "      <td>492752.98</td>\n",
              "      <td>5458423.73</td>\n",
              "      <td>49.278526</td>\n",
              "      <td>-123.099638</td>\n",
              "    </tr>\n",
              "  </tbody>\n",
              "</table>\n",
              "</div>"
            ],
            "text/plain": [
              "                    TYPE  YEAR     ...            lat         lon\n",
              "482335  Theft of Bicycle  2016     ...      49.282521 -123.122034\n",
              "50030   Theft of Bicycle  2004     ...      49.282643 -123.121761\n",
              "392929  Theft of Bicycle  2013     ...      49.260590 -123.123236\n",
              "447091  Theft of Bicycle  2015     ...      49.267937 -123.098615\n",
              "486001  Theft of Bicycle  2016     ...      49.278526 -123.099638\n",
              "\n",
              "[5 rows x 12 columns]"
            ]
          },
          "metadata": {
            "tags": []
          },
          "execution_count": 146
        }
      ]
    },
    {
      "cell_type": "code",
      "metadata": {
        "id": "Ve_F-P0eV6Bq",
        "colab_type": "code",
        "colab": {
          "base_uri": "https://localhost:8080/",
          "height": 206
        },
        "outputId": "cd847f45-2a5b-4461-9bc6-e1d8e4a19299"
      },
      "source": [
        "df_bike_theft[['lat', 'lon']].head()"
      ],
      "execution_count": 154,
      "outputs": [
        {
          "output_type": "execute_result",
          "data": {
            "text/html": [
              "<div>\n",
              "<style scoped>\n",
              "    .dataframe tbody tr th:only-of-type {\n",
              "        vertical-align: middle;\n",
              "    }\n",
              "\n",
              "    .dataframe tbody tr th {\n",
              "        vertical-align: top;\n",
              "    }\n",
              "\n",
              "    .dataframe thead th {\n",
              "        text-align: right;\n",
              "    }\n",
              "</style>\n",
              "<table border=\"1\" class=\"dataframe\">\n",
              "  <thead>\n",
              "    <tr style=\"text-align: right;\">\n",
              "      <th></th>\n",
              "      <th>lat</th>\n",
              "      <th>lon</th>\n",
              "    </tr>\n",
              "  </thead>\n",
              "  <tbody>\n",
              "    <tr>\n",
              "      <th>11870</th>\n",
              "      <td>49.274530</td>\n",
              "      <td>-123.112245</td>\n",
              "    </tr>\n",
              "    <tr>\n",
              "      <th>12192</th>\n",
              "      <td>49.281843</td>\n",
              "      <td>-123.099582</td>\n",
              "    </tr>\n",
              "    <tr>\n",
              "      <th>12194</th>\n",
              "      <td>49.281843</td>\n",
              "      <td>-123.099582</td>\n",
              "    </tr>\n",
              "    <tr>\n",
              "      <th>12197</th>\n",
              "      <td>49.281843</td>\n",
              "      <td>-123.099582</td>\n",
              "    </tr>\n",
              "    <tr>\n",
              "      <th>12201</th>\n",
              "      <td>49.281843</td>\n",
              "      <td>-123.099582</td>\n",
              "    </tr>\n",
              "  </tbody>\n",
              "</table>\n",
              "</div>"
            ],
            "text/plain": [
              "             lat         lon\n",
              "11870  49.274530 -123.112245\n",
              "12192  49.281843 -123.099582\n",
              "12194  49.281843 -123.099582\n",
              "12197  49.281843 -123.099582\n",
              "12201  49.281843 -123.099582"
            ]
          },
          "metadata": {
            "tags": []
          },
          "execution_count": 154
        }
      ]
    },
    {
      "cell_type": "code",
      "metadata": {
        "id": "bZ2Xhu3QVqlH",
        "colab_type": "code",
        "colab": {
          "base_uri": "https://localhost:8080/",
          "height": 36
        },
        "outputId": "57ab4f27-1b0b-4cb7-ed15-f779db8add01"
      },
      "source": [
        "locations_list = list(zip(df_bike_theft['lat'], df_bike_theft['lon']))\n",
        "len(locations_list)"
      ],
      "execution_count": 153,
      "outputs": [
        {
          "output_type": "execute_result",
          "data": {
            "text/plain": [
              "30397"
            ]
          },
          "metadata": {
            "tags": []
          },
          "execution_count": 153
        }
      ]
    },
    {
      "cell_type": "code",
      "metadata": {
        "id": "sqxzGLySWK68",
        "colab_type": "code",
        "colab": {}
      },
      "source": [
        "folium_map = folium.Map(location=[49.274530,  -123.112245], zoom_start=12)\n",
        "for point in locations_list[:20]:\n",
        "  folium.Marker(point).add_to(folium_map)"
      ],
      "execution_count": 0,
      "outputs": []
    },
    {
      "cell_type": "code",
      "metadata": {
        "id": "QqAuoBThWuiz",
        "colab_type": "code",
        "colab": {
          "base_uri": "https://localhost:8080/",
          "height": 818
        },
        "outputId": "a961fbb0-97f7-42cc-d017-e0630ccfe7e4"
      },
      "source": [
        "folium_map"
      ],
      "execution_count": 157,
      "outputs": [
        {
          "output_type": "execute_result",
          "data": {
            "text/html": [
              "<div style=\"width:100%;\"><div style=\"position:relative;width:100%;height:0;padding-bottom:60%;\"><iframe src=\"data:text/html;charset=utf-8;base64,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\" style=\"position:absolute;width:100%;height:100%;left:0;top:0;border:none !important;\" allowfullscreen webkitallowfullscreen mozallowfullscreen></iframe></div></div>"
            ],
            "text/plain": [
              "<folium.folium.Map at 0x7f7bf5a2e2e8>"
            ]
          },
          "metadata": {
            "tags": []
          },
          "execution_count": 157
        }
      ]
    },
    {
      "cell_type": "code",
      "metadata": {
        "id": "4cGNKVZtWykK",
        "colab_type": "code",
        "colab": {}
      },
      "source": [
        ""
      ],
      "execution_count": 0,
      "outputs": []
    }
  ]
}